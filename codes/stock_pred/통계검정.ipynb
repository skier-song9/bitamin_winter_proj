{
 "cells": [
  {
   "cell_type": "code",
   "execution_count": 1,
   "metadata": {
    "id": "pPWFOn7G0928"
   },
   "outputs": [],
   "source": [
    "# 필요한 라이브러리 추가\n",
    "import numpy as np\n",
    "import pandas as pd\n",
    "from scipy import stats\n",
    "import matplotlib.pyplot as plt\n",
    "from statsmodels.formula.api import ols\n",
    "from statsmodels.stats.anova import anova_lm"
   ]
  },
  {
   "cell_type": "code",
   "execution_count": 2,
   "metadata": {
    "id": "NEeb2vrn0-vJ"
   },
   "outputs": [],
   "source": [
    "lstm_df = pd.DataFrame(\n",
    "    data  =\n",
    "        {'seq_length':[30,30,30,30,30,30,60,60,60,60,60,60,120,120,120,120,120,120],\n",
    "        'rmse':[2.0999,2.1046,2.2558,2.2894,2.3682,2.3132,2.3642,2.3405,2.5351,2.5086,2.5760,2.5783,2.2858,2.2855,2.46,2.4657,2.4925,2.5393]}\n",
    ")\n",
    "gru_df = pd.DataFrame(\n",
    "    data  =\n",
    "        {'seq_length':[30,30,30,30,30,30,60,60,60,60,60,60,120,120,120,120,120,120],\n",
    "        'rmse':[2.098,2.1155,2.2825,2.2765,2.2404,2.2838,2.3110,2.2897,2.4925,2.5292,2.6002,2.5499,2.2999,2.2798,2.4454,2.4778,2.5734,2.4777]}\n",
    ")\n",
    "transformer_df = pd.DataFrame(\n",
    "    data  =\n",
    "        {'seq_length':[30,30,30,30,30,30,60,60,60,60,60,60,120,120,120,120,120,120],\n",
    "        'rmse':[2.308,2.309,2.466,2.548,2.580,2.610,2.560,2.556,2.722,2.804,2.838,2.856,2.483,2.500,2.643,2.782,2.786,2.780]}\n",
    ")"
   ]
  },
  {
   "cell_type": "code",
   "execution_count": 3,
   "metadata": {
    "colab": {
     "base_uri": "https://localhost:8080/"
    },
    "id": "f4HX0Yrw2E6I",
    "outputId": "97010810-9813-47c4-a189-89aeee54d856"
   },
   "outputs": [
    {
     "data": {
      "text/plain": [
       "(   seq_length    rmse\n",
       " 0          30  2.0999\n",
       " 1          30  2.1046\n",
       " 2          30  2.2558\n",
       " 3          30  2.2894\n",
       " 4          30  2.3682,\n",
       "    seq_length    rmse\n",
       " 0          30  2.0980\n",
       " 1          30  2.1155\n",
       " 2          30  2.2825\n",
       " 3          30  2.2765\n",
       " 4          30  2.2404,\n",
       "    seq_length   rmse\n",
       " 0          30  2.308\n",
       " 1          30  2.309\n",
       " 2          30  2.466\n",
       " 3          30  2.548\n",
       " 4          30  2.580)"
      ]
     },
     "execution_count": 3,
     "metadata": {},
     "output_type": "execute_result"
    }
   ],
   "source": [
    "lstm_df.head(), gru_df.head(), transformer_df.head()"
   ]
  },
  {
   "cell_type": "code",
   "execution_count": 4,
   "metadata": {
    "id": "9ol2Kew127Fu"
   },
   "outputs": [],
   "source": [
    "lstm_30 = lstm_df.loc[lstm_df['seq_length'] == 30]\n",
    "gru_30 = gru_df.loc[gru_df['seq_length'] == 30]\n",
    "transformer_30 = transformer_df.loc[transformer_df['seq_length'] == 30]\n",
    "lstm_60 = lstm_df.loc[lstm_df['seq_length'] == 60]\n",
    "gru_60 = gru_df.loc[gru_df['seq_length'] == 60]\n",
    "transformer_60 = transformer_df.loc[transformer_df['seq_length'] == 60]\n",
    "lstm_120 = lstm_df.loc[lstm_df['seq_length'] == 120]\n",
    "gru_120 = gru_df.loc[gru_df['seq_length'] == 120]\n",
    "transformer_120 = transformer_df.loc[transformer_df['seq_length'] == 120]"
   ]
  },
  {
   "cell_type": "code",
   "execution_count": 5,
   "metadata": {
    "colab": {
     "base_uri": "https://localhost:8080/"
    },
    "id": "BxUz0YYG3zQR",
    "outputId": "12b51c2d-d5c4-4ed8-f523-42e87c0d19a7"
   },
   "outputs": [
    {
     "name": "stdout",
     "output_type": "stream",
     "text": [
      "bigger than 0.05\n",
      "bigger than 0.05\n",
      "bigger than 0.05\n",
      "no\n",
      "bigger than 0.05\n",
      "bigger than 0.05\n",
      "bigger than 0.05\n",
      "bigger than 0.05\n",
      "bigger than 0.05\n"
     ]
    }
   ],
   "source": [
    "## 정규성 검정\n",
    "lstm_group = [lstm_30, lstm_60, lstm_120]\n",
    "gru_group = [gru_30, gru_60, gru_120]\n",
    "transformer_group = [transformer_30, transformer_60, transformer_120]\n",
    "\n",
    "for group in lstm_group:\n",
    "    print(\"bigger than 0.05\" if (stats.shapiro(group['rmse']).pvalue) > 0.05 else \"no\")\n",
    "for group in gru_group:\n",
    "    print(\"bigger than 0.05\" if (stats.shapiro(group['rmse']).pvalue) > 0.05 else \"no\")\n",
    "for group in transformer_group:\n",
    "    print(\"bigger than 0.05\" if (stats.shapiro(group['rmse']).pvalue) > 0.05 else \"no\")"
   ]
  },
  {
   "cell_type": "code",
   "execution_count": 6,
   "metadata": {
    "colab": {
     "base_uri": "https://localhost:8080/"
    },
    "id": "W8UQkNPu4Cwp",
    "outputId": "6df5de7d-0bc0-41f5-ddab-461d198c9d26"
   },
   "outputs": [
    {
     "name": "stdout",
     "output_type": "stream",
     "text": [
      "KruskalResult(statistic=10.713450292397667, pvalue=0.004716326123185766)\n"
     ]
    }
   ],
   "source": [
    "# Kruskal-Wallis H 검정\n",
    "# print(stats.kruskal(lstm_30['rmse'], lstm_60['rmse'], lstm_120['rmse']))\n",
    "print(stats.kruskal(gru_30['rmse'], gru_60['rmse'], gru_120['rmse']))\n",
    "# print(stats.kruskal(transformer_30['rmse'], transformer_60['rmse'], transformer_120['rmse']))"
   ]
  },
  {
   "cell_type": "code",
   "execution_count": 7,
   "metadata": {
    "colab": {
     "base_uri": "https://localhost:8080/"
    },
    "id": "h5kJSSld5Zm7",
    "outputId": "6ae189db-dae3-425a-fde6-be8b69d4b4a7"
   },
   "outputs": [
    {
     "name": "stdout",
     "output_type": "stream",
     "text": [
      "LeveneResult(statistic=0.01576860243592082, pvalue=0.9843713656177684)\n",
      "LeveneResult(statistic=0.040653174624792635, pvalue=0.9602674952485132)\n",
      "BartlettResult(statistic=0.015845045664427022, pvalue=0.9921087776376936)\n",
      "BartlettResult(statistic=0.022140384385811358, pvalue=0.9889908569019508)\n",
      "LeveneResult(statistic=0.25877432482979246, pvalue=0.7753737172125356)\n",
      "BartlettResult(statistic=0.7580708374639175, pvalue=0.6845213673580811)\n"
     ]
    }
   ],
   "source": [
    "# 등분산성 검정 > 만족\n",
    "### gru는 등분산성은 만족하지만 정규성이 애매함.\n",
    "print(stats.levene(lstm_30['rmse'], lstm_60['rmse'], lstm_120['rmse']))\n",
    "print(stats.levene(transformer_30['rmse'], transformer_60['rmse'], transformer_120['rmse']))\n",
    "\n",
    "print(stats.bartlett(lstm_30['rmse'], lstm_60['rmse'], lstm_120['rmse']))\n",
    "print(stats.bartlett(transformer_30['rmse'], transformer_60['rmse'], transformer_120['rmse']))\n",
    "\n",
    "print(stats.levene(gru_30['rmse'], gru_60['rmse'], gru_120['rmse']))\n",
    "print(stats.bartlett(gru_30['rmse'], gru_60['rmse'], gru_120['rmse']))"
   ]
  },
  {
   "cell_type": "code",
   "execution_count": 8,
   "metadata": {
    "colab": {
     "base_uri": "https://localhost:8080/"
    },
    "id": "P9AjeH5A5is9",
    "outputId": "95fdf2bb-2ea4-42c3-860d-a822b8b556e3"
   },
   "outputs": [
    {
     "name": "stdout",
     "output_type": "stream",
     "text": [
      "LSTM | RMSE ~ C(Seq_Length)\n",
      "                 df    sum_sq   mean_sq         F    PR(>F)\n",
      "C(seq_length)   2.0  0.195020  0.097510  8.253633  0.003825\n",
      "Residual       15.0  0.177213  0.011814       NaN       NaN\n",
      "\n",
      "Transformer | RMSE ~ C(Seq_Length)\n",
      "                 df    sum_sq   mean_sq         F    PR(>F)\n",
      "C(seq_length)   2.0  0.208649  0.104324  5.505371  0.016108\n",
      "Residual       15.0  0.284243  0.018950       NaN       NaN\n"
     ]
    }
   ],
   "source": [
    "# anova test\n",
    "# 종속변수 ~ C(독립변수)\n",
    "lmodel = ols('rmse ~ C(seq_length)', data=lstm_df).fit()\n",
    "print(\"LSTM | RMSE ~ C(Seq_Length)\")\n",
    "print(anova_lm(lmodel, typ=1))\n",
    "print()\n",
    "lmodel = ols('rmse ~ C(seq_length)', data=transformer_df).fit()\n",
    "print(\"Transformer | RMSE ~ C(Seq_Length)\")\n",
    "print(anova_lm(lmodel, typ=1))"
   ]
  },
  {
   "cell_type": "markdown",
   "metadata": {},
   "source": [
    "### 사후검정"
   ]
  },
  {
   "cell_type": "code",
   "execution_count": 9,
   "metadata": {
    "colab": {
     "base_uri": "https://localhost:8080/"
    },
    "id": "Vl1m6Ux58bUC",
    "outputId": "444b68e4-a3b7-40e3-a19c-524580a38020"
   },
   "outputs": [
    {
     "name": "stdout",
     "output_type": "stream",
     "text": [
      "Multiple Comparison of Means - Tukey HSD, FWER=0.05\n",
      "===================================================\n",
      "group1 group2 meandiff p-adj   lower  upper  reject\n",
      "---------------------------------------------------\n",
      "    30     60   0.2453 0.0038  0.0823 0.4083   True\n",
      "    30    120    0.183 0.0271  0.0199  0.346   True\n",
      "    60    120  -0.0623 0.5923 -0.2253 0.1007  False\n",
      "---------------------------------------------------\n",
      "Multiple Comparison of Means - Tukey HSD, FWER=0.05\n",
      "===================================================\n",
      "group1 group2 meandiff p-adj   lower  upper  reject\n",
      "---------------------------------------------------\n",
      "    30     60   0.2525 0.0162  0.0461 0.4589   True\n",
      "    30    120   0.1922 0.0699 -0.0143 0.3986  False\n",
      "    60    120  -0.0603 0.7329 -0.2668 0.1461  False\n",
      "---------------------------------------------------\n"
     ]
    }
   ],
   "source": [
    "# Tukey 라이브러리 가져오기\n",
    "from statsmodels.stats.multicomp import pairwise_tukeyhsd\n",
    "\n",
    "# endog = 종속변수, groups = 독립변수\n",
    "tukey_result = pairwise_tukeyhsd(endog=lstm_df['rmse'], groups=lstm_df['seq_length'])\n",
    "print(tukey_result)\n",
    "\n",
    "tukey_result = pairwise_tukeyhsd(endog=transformer_df['rmse'], groups=transformer_df['seq_length'])\n",
    "print(tukey_result)"
   ]
  },
  {
   "cell_type": "code",
   "execution_count": 10,
   "metadata": {
    "colab": {
     "base_uri": "https://localhost:8080/",
     "height": 415
    },
    "id": "vJvBTkse-2I_",
    "outputId": "3707bd1f-0e96-43d1-caba-03763e126e6d"
   },
   "outputs": [
    {
     "name": "stdout",
     "output_type": "stream",
     "text": [
      "       Source        SS  DF          F         p-unc       np2\n",
      "0  seq_length  0.195020   2  50.036701  7.830488e-07  0.885030\n",
      "1  batch_size  0.151870   1  77.931396  7.488557e-07  0.857035\n",
      "2  model_size  0.000009   1   0.004383  9.482202e-01  0.000337\n",
      "3    Residual  0.025334  13        NaN           NaN       NaN\n",
      "-------------------------\n",
      "       Source        SS  DF          F         p-unc       np2\n",
      "0  seq_length  0.208649   2  35.183521  5.677645e-06  0.844063\n",
      "1  batch_size  0.238537   1  80.446713  6.259555e-07  0.860883\n",
      "2  model_size  0.007160   1   2.414737  1.441973e-01  0.156651\n",
      "3    Residual  0.038547  13        NaN           NaN       NaN\n"
     ]
    }
   ],
   "source": [
    "# prompt: lstm_df와  transformer_df에 대해 ancova 분석을 수행하는 코드를 작성해\n",
    "\n",
    "import numpy as np\n",
    "import pandas as pd\n",
    "from scipy import stats\n",
    "import matplotlib.pyplot as plt\n",
    "from statsmodels.formula.api import ols\n",
    "import pingouin as pg\n",
    "# 필요한 라이브러리 추가\n",
    "lstm_all = pd.DataFrame(\n",
    "    data  =\n",
    "        {'seq_length':[30,30,30,30,30,30,60,60,60,60,60,60,120,120,120,120,120,120],\n",
    "        'batch_size':[1,1,4,4,8,8,1,1,4,4,8,8,1,1,4,4,8,8],\n",
    "        'model_size':[64,128,64,128,64,128,64,128,64,128,64,128,64,128,64,128,64,128],\n",
    "        'rmse':[2.0999,2.1046,2.2558,2.2894,2.3682,2.3132,2.3642,2.3405,2.5351,2.5086,2.5760,2.5783,2.2858,2.2855,2.46,2.4657,2.4925,2.5393]}\n",
    ")\n",
    "transformer_all = pd.DataFrame(\n",
    "    data  =\n",
    "        {'seq_length':[30,30,30,30,30,30,60,60,60,60,60,60,120,120,120,120,120,120],\n",
    "        'batch_size':[1,1,4,4,8,8,1,1,4,4,8,8,1,1,4,4,8,8],\n",
    "        'model_size':[64,128,64,128,64,128,64,128,64,128,64,128,64,128,64,128,64,128],\n",
    "        'rmse':[2.308,2.309,2.466,2.548,2.580,2.610,2.560,2.556,2.722,2.804,2.838,2.856,2.483,2.500,2.643,2.782,2.786,2.780]}\n",
    ")\n",
    "\n",
    "ancova_lstm = pg.ancova(data=lstm_all, dv='rmse', \n",
    "                        covar = ['batch_size','model_size'], between='seq_length')\n",
    "print(ancova_lstm)\n",
    "\n",
    "print(\"-------------------------\")\n",
    "\n",
    "ancova_transformer = pg.ancova(data=transformer_all, dv='rmse',\n",
    "                       covar = ['batch_size','model_size'], between='seq_length')\n",
    "print(ancova_transformer)"
   ]
  },
  {
   "cell_type": "code",
   "execution_count": 11,
   "metadata": {},
   "outputs": [],
   "source": [
    "lstm_t = pd.DataFrame(\n",
    "    data  =\n",
    "        {'stock':[2.080,2.097,2.265,2.253,2.346,2.33,2.298,2.355,2.519,2.545,2.565,2.624,2.27,2.336,2.491,2.526,2.540,2.519],\n",
    "        'total':[2.0999,2.1046,2.2558,2.2894,2.3682,2.3132,2.3642,2.3405,2.5351,2.5086,2.5760,2.5783,2.2858,2.2855,2.46,2.4657,2.4925,2.5393]}\n",
    ")\n",
    "gru_t = pd.DataFrame(\n",
    "    data  =\n",
    "        {'stock':[2.098,2.1155,2.2825,2.2765,2.2404,2.2838,2.3110,2.2897,2.4925,2.5292,2.6002,2.5499,2.2999,2.2798,2.4454,2.4778,2.5734,2.4777],\n",
    "        'total':[2.1143,2.0791,2.2759,2.2461,2.3286,2.3328,2.3475,2.3452,2.5378,2.546,2.608,2.5757,2.629,2.252,2.4715,2.4587,2.5297,2.4882]}\n",
    ")\n",
    "transformer_t = pd.DataFrame(\n",
    "    data  =\n",
    "        {'stock':[2.322,2.352,2.522,2.580,2.557,2.608,2.567,2.562,2.745,2.829,2.843,2.847,2.479,2.486,2.651,2.738,2.789,2.763],\n",
    "        'total':[2.308,2.309,2.466,2.548,2.580,2.610,2.560,2.556,2.722,2.804,2.838,2.856,2.483,2.500,2.643,2.782,2.786,2.780]}\n",
    ")"
   ]
  },
  {
   "cell_type": "code",
   "execution_count": 12,
   "metadata": {},
   "outputs": [
    {
     "name": "stdout",
     "output_type": "stream",
     "text": [
      "Model           t-statistic               p-value                  \n",
      "LSTM            0.1037865841026376        0.9179485128034262       \n",
      "GRU             -0.5691924012118816       0.5729669381028167       \n",
      "Transformer     0.10943502234467681       0.9135008203825664       \n"
     ]
    }
   ],
   "source": [
    "import scipy.stats as stats\n",
    "results = []\n",
    "t_stat, p_value = stats.ttest_ind(lstm_t['stock'].values, lstm_t['total'].values)\n",
    "results.append(('LSTM', t_stat, p_value))\n",
    "\n",
    "t_stat, p_value = stats.ttest_ind(gru_t['stock'].values, gru_t['total'].values)\n",
    "results.append(('GRU', t_stat, p_value))\n",
    "\n",
    "t_stat, p_value = stats.ttest_ind(transformer_t['stock'].values, transformer_t['total'].values)\n",
    "results.append(('Transformer', t_stat, p_value))\n",
    "\n",
    "# 출력\n",
    "print(f\"{'Model':<15} {'t-statistic':<25} {'p-value':<25}\")\n",
    "for result in results:\n",
    "    print(f\"{result[0]:<15} {result[1]:<25} {result[2]:<25}\")"
   ]
  },
  {
   "cell_type": "markdown",
   "metadata": {},
   "source": [
    "Kruskal-Wallis test : 범주형 독립변수와 연속형 종속변수의 상관관계"
   ]
  },
  {
   "cell_type": "code",
   "execution_count": 16,
   "metadata": {},
   "outputs": [
    {
     "name": "stdout",
     "output_type": "stream",
     "text": [
      "KruskalResult(statistic=8.046783625730995, pvalue=0.017892174994385477)\n",
      "KruskalResult(statistic=10.713450292397667, pvalue=0.004716326123185766)\n",
      "KruskalResult(statistic=6.67836257309942, pvalue=0.03546598231531404)\n"
     ]
    }
   ],
   "source": [
    "print(stats.kruskal(lstm_30['rmse'], lstm_60['rmse'], lstm_120['rmse']))\n",
    "print(stats.kruskal(gru_30['rmse'], gru_60['rmse'], gru_120['rmse']))\n",
    "print(stats.kruskal(transformer_30['rmse'], transformer_60['rmse'], transformer_120['rmse']))"
   ]
  },
  {
   "cell_type": "code",
   "execution_count": 18,
   "metadata": {},
   "outputs": [
    {
     "name": "stdout",
     "output_type": "stream",
     "text": [
      "KruskalResult(statistic=0.004004519386177176, pvalue=0.9495425286473611)\n",
      "KruskalResult(statistic=0.44144144144144093, pvalue=0.5064275522686174)\n",
      "KruskalResult(statistic=0.04229773601637117, pvalue=0.8370532765183694)\n"
     ]
    }
   ],
   "source": [
    "print(stats.kruskal(lstm_t['stock'],lstm_t['total']))\n",
    "print(stats.kruskal(gru_t['stock'],gru_t['total']))\n",
    "print(stats.kruskal(transformer_t['stock'],transformer_t['total']))"
   ]
  },
  {
   "cell_type": "code",
   "execution_count": null,
   "metadata": {},
   "outputs": [],
   "source": []
  }
 ],
 "metadata": {
  "colab": {
   "provenance": []
  },
  "kernelspec": {
   "display_name": "Python 3 (ipykernel)",
   "language": "python",
   "name": "python3"
  },
  "language_info": {
   "codemirror_mode": {
    "name": "ipython",
    "version": 3
   },
   "file_extension": ".py",
   "mimetype": "text/x-python",
   "name": "python",
   "nbconvert_exporter": "python",
   "pygments_lexer": "ipython3",
   "version": "3.10.0"
  }
 },
 "nbformat": 4,
 "nbformat_minor": 4
}
