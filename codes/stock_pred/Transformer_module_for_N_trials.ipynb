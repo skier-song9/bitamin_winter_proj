{
 "cells": [
  {
   "cell_type": "markdown",
   "id": "d323c6ac",
   "metadata": {},
   "source": [
    "- Uncomment the following lines when you use a Kaggle notebook."
   ]
  },
  {
   "cell_type": "code",
   "execution_count": 1,
   "id": "01a18baf",
   "metadata": {
    "_cell_guid": "b1076dfc-b9ad-4769-8c92-a6c4dae69d19",
    "_uuid": "8f2839f25d086af736a60e9eeb907d3b93b6e0e5",
    "execution": {
     "iopub.execute_input": "2024-02-23T11:53:40.816919Z",
     "iopub.status.busy": "2024-02-23T11:53:40.816372Z",
     "iopub.status.idle": "2024-02-23T11:53:41.913032Z",
     "shell.execute_reply": "2024-02-23T11:53:41.911532Z"
    },
    "papermill": {
     "duration": 1.109111,
     "end_time": "2024-02-23T11:53:41.916131",
     "exception": false,
     "start_time": "2024-02-23T11:53:40.807020",
     "status": "completed"
    },
    "tags": []
   },
   "outputs": [
    {
     "name": "stdout",
     "output_type": "stream",
     "text": [
      "/kaggle/input/netflix-stock-prediction/news_processed_filtered_2.csv\n",
      "/kaggle/input/netflix-stock-prediction/test.csv\n",
      "/kaggle/input/netflix-stock-prediction/netflix_60.csv\n"
     ]
    }
   ],
   "source": [
    "# This Python 3 environment comes with many helpful analytics libraries installed\n",
    "# It is defined by the kaggle/python Docker image: https://github.com/kaggle/docker-python\n",
    "# For example, here's several helpful packages to load\n",
    "\n",
    "# import numpy as np # linear algebra\n",
    "# import pandas as pd # data processing, CSV file I/O (e.g. pd.read_csv)\n",
    "\n",
    "# Input data files are available in the read-only \"../input/\" directory\n",
    "# For example, running this (by clicking run or pressing Shift+Enter) will list all files under the input directory\n",
    "\n",
    "# import os\n",
    "# for dirname, _, filenames in os.walk('/kaggle/input'):\n",
    "#     for filename in filenames:\n",
    "#         print(os.path.join(dirname, filename))\n",
    "\n",
    "# You can write up to 20GB to the current directory (/kaggle/working/) that gets preserved as output when you create a version using \"Save & Run All\" \n",
    "# You can also write temporary files to /kaggle/temp/, but they won't be saved outside of the current session"
   ]
  },
  {
   "cell_type": "code",
   "execution_count": 2,
   "id": "20b431af",
   "metadata": {
    "execution": {
     "iopub.execute_input": "2024-02-23T11:53:41.931524Z",
     "iopub.status.busy": "2024-02-23T11:53:41.930510Z",
     "iopub.status.idle": "2024-02-23T11:53:52.775282Z",
     "shell.execute_reply": "2024-02-23T11:53:52.773814Z"
    },
    "papermill": {
     "duration": 10.856527,
     "end_time": "2024-02-23T11:53:52.779175",
     "exception": false,
     "start_time": "2024-02-23T11:53:41.922648",
     "status": "completed"
    },
    "tags": []
   },
   "outputs": [
    {
     "name": "stdout",
     "output_type": "stream",
     "text": [
      "Note: not using Google CoLab\n",
      "Using device: cpu\n"
     ]
    }
   ],
   "source": [
    "import pandas as pd\n",
    "import numpy as np\n",
    "# import category_encoders as ce\n",
    "# import copy\n",
    "# import polars as pl\n",
    "\n",
    "# Visualization\n",
    "import matplotlib.pylab as plt\n",
    "from matplotlib import font_manager, rc\n",
    "import matplotlib\n",
    "import seaborn as sns\n",
    "# import plotly.express as px\n",
    "# %matplotlib inline\n",
    "# matplotlib.rcParams['font.family'] = 'Malgun Gothic' # 한글 패치\n",
    "# Preprocessing & Feature Engineering\n",
    "from sklearn.model_selection import train_test_split\n",
    "from sklearn.preprocessing import MinMaxScaler, LabelEncoder, OneHotEncoder\n",
    "from sklearn.impute import SimpleImputer\n",
    "from sklearn.preprocessing import StandardScaler\n",
    "from sklearn.preprocessing import MinMaxScaler\n",
    "from sklearn.preprocessing import PowerTransformer\n",
    "from sklearn.feature_selection import SelectPercentile\n",
    "from sklearn.decomposition import PCA\n",
    "\n",
    "# Hyperparameter Optimization\n",
    "from sklearn.model_selection import GridSearchCV\n",
    "from sklearn.model_selection import RandomizedSearchCV\n",
    "\n",
    "# Modeling\n",
    "# from sklearn.dummy import DummyClassifier\n",
    "from sklearn.linear_model import LogisticRegression\n",
    "# from sklearn.neighbors import KNeighborsClassifier\n",
    "# from sklearn.ensemble import RandomForestClassifier\n",
    "# from sklearn.neural_network import MLPClassifier\n",
    "# from sklearn.tree import DecisionTreeClassifier\n",
    "# from sklearn.ensemble import ExtraTreesClassifier\n",
    "# from sklearn.ensemble import GradientBoostingClassifier\n",
    "from xgboost import XGBClassifier, XGBRegressor, XGBRFRegressor\n",
    "from lightgbm import LGBMClassifier, LGBMRegressor\n",
    "from sklearn.svm import SVC\n",
    "from sklearn.ensemble import VotingClassifier, VotingRegressor\n",
    "from sklearn.ensemble import StackingClassifier, StackingRegressor\n",
    "# from sklearn.base import ClassifierMixin\n",
    "\n",
    "# CatBoost\n",
    "# from catboost import CatBoostRegressor\n",
    "\n",
    "# PyTorch\n",
    "import torch\n",
    "import torch.nn.init as init\n",
    "from torch.utils.data import Dataset, DataLoader, TensorDataset\n",
    "import torch.nn as nn\n",
    "import torch.nn.functional as F\n",
    "import torch.optim as optim\n",
    "from torch.autograd import Variable\n",
    "from torch.nn import Parameter\n",
    "from torch import Tensor\n",
    "from torch.utils.data import DataLoader\n",
    "from torch.optim.lr_scheduler import ReduceLROnPlateau\n",
    "\n",
    "# Evaluation\n",
    "from sklearn.metrics import roc_auc_score\n",
    "from sklearn.metrics import accuracy_score\n",
    "from sklearn.model_selection import cross_val_score\n",
    "from sklearn.metrics import log_loss,mean_squared_error\n",
    "import sklearn\n",
    "\n",
    "# Utility\n",
    "import os\n",
    "import time\n",
    "import datetime # ⚠️2019년 12월30일과 31일의 week of year가 1인 오류가 있음\n",
    "import random\n",
    "import warnings; warnings.filterwarnings(\"ignore\")\n",
    "from IPython.display import Image\n",
    "import pickle\n",
    "from tqdm import tqdm\n",
    "import platform\n",
    "from itertools import combinations,product\n",
    "from scipy.stats.mstats import gmean\n",
    "import holidays\n",
    "\n",
    "# from bayes_opt import BayesianOptimization\n",
    "# from num2words import num2words\n",
    "import statsmodels.api as sm\n",
    "import statsmodels.formula.api as smf\n",
    "from statsmodels.stats.outliers_influence import OLSInfluence\n",
    "\n",
    "### Basic settings\n",
    "pd.set_option('display.max_row',None)\n",
    "pd.set_option('display.max_column',None)\n",
    "\n",
    "### Setting universal random_state\n",
    "np.random.seed(142)\n",
    "random.seed(142)\n",
    "sklearn.utils.check_random_state(142)\n",
    "torch.manual_seed(142)\n",
    "torch.backends.cudnn.deterministic=True\n",
    "torch.backends.cudnn.benchmark=False\n",
    "\n",
    "try:\n",
    "    import google.colab\n",
    "    COLAB = True\n",
    "    print(\"Note: using Google CoLab\")\n",
    "except:\n",
    "    print(\"Note: not using Google CoLab\")\n",
    "    COLAB = False\n",
    "\n",
    "# Make use of a GPU or MPS (Apple) if one is available.  (see module 3.2)\n",
    "has_mps = torch.backends.mps.is_built()\n",
    "device = \"mps\" if has_mps else \"cuda\" if torch.cuda.is_available() else \"cpu\"\n",
    "print(f\"Using device: {device}\")"
   ]
  },
  {
   "cell_type": "code",
   "execution_count": 3,
   "id": "4d775c55",
   "metadata": {
    "execution": {
     "iopub.execute_input": "2024-02-23T11:53:52.798218Z",
     "iopub.status.busy": "2024-02-23T11:53:52.797264Z",
     "iopub.status.idle": "2024-02-23T11:53:57.522337Z",
     "shell.execute_reply": "2024-02-23T11:53:57.520995Z"
    },
    "papermill": {
     "duration": 4.738011,
     "end_time": "2024-02-23T11:53:57.525634",
     "exception": false,
     "start_time": "2024-02-23T11:53:52.787623",
     "status": "completed"
    },
    "tags": []
   },
   "outputs": [],
   "source": [
    "### Class for preparing datasets\n",
    "class PrepareData():\n",
    "    def __init__(self,stock_fp,news_fp):\n",
    "        self.stock_filepath = stock_fp\n",
    "        self.news_filepath = news_fp\n",
    "        self.topic_classes = ['CEO', 'CFO', 'Layoffs', 'Political', 'PressRelease', 'Undefined',\n",
    "       'cramer', 'earnings', 'gold', 'manda', 'paylimitwall', 'paywall',\n",
    "       'product', 'recession', 'tanalysis'] # undefined의 class가 5\n",
    "\n",
    "    def load_data(self):\n",
    "        stock = pd.read_csv(self.stock_filepath,index_col=0)\n",
    "        news = pd.read_csv(self.news_filepath,index_col=0)\n",
    "        ### parse date manually\n",
    "        stock['Date'] = pd.to_datetime(stock['Date'])\n",
    "        news['date'] = pd.to_datetime(news['date'])\n",
    "        return stock, news\n",
    "\n",
    "    def merging(self, stock, news):\n",
    "        ### fill na value of PINS column\n",
    "#         stock['PINS'] = stock['PINS'].fillna(stock['PINS'].iloc[75])\n",
    "\n",
    "        ### drop 'news_id' column\n",
    "#         news = news.drop(columns=['news_id'])\n",
    "\n",
    "        ### add date range from 18.01.02 to 18.12.31\n",
    "        temp_range = pd.DataFrame(dict(zip(stock.columns,[pd.date_range(start='2018-01-02',end='2018-12-31'),\n",
    "                                0,0,0,0, # 4\n",
    "                                0,0,0,0,\n",
    "                                0,0,0,0,\n",
    "                                0,0,0,0, # 16\n",
    "                                0,0,0,0,\n",
    "                                0,0,0,0,\n",
    "                                0,0,0,0, # 28\n",
    "                                0,0,0,0,\n",
    "                                0,0,0,0, # 36\n",
    "                                0 # 37\n",
    "                            ])))\n",
    "        stock_inc = pd.concat([temp_range,stock],axis=0)\n",
    "\n",
    "        ### merge stock_inc and news\n",
    "        # left = stock_inc\n",
    "        # on = date\n",
    "        # how = left\n",
    "        # rename 'date' to 'Date' of news df\n",
    "        news = news.rename(columns={'date':'Date'})\n",
    "        merged = pd.merge(left=stock_inc,right=news,on='Date',how='left')\n",
    "\n",
    "        ### Cut before 2018-02-13\n",
    "        merged = merged[42:].reset_index(drop=True)\n",
    "\n",
    "        # fill na with latest non-null values\n",
    "        columns_to_fill = ['source_name', 'topics', 'rank_score',\n",
    "                        'sentiment_Negative','sentiment_Neutral',\n",
    "                        'sentiment_Positive', 'type_Article', 'type_Video']\n",
    "        merged_fillna = merged.copy()\n",
    "        for column in columns_to_fill:\n",
    "            merged_fillna[column].fillna(method='ffill',inplace=True)\n",
    "\n",
    "        ### add moving average to sentiments\n",
    "        ma_nums = [5,60,120]\n",
    "        def mode_window(window):\n",
    "            return window.mode().iloc[0] if not len(window.mode())==0 else None\n",
    "        for num in ma_nums:\n",
    "            merged_fillna[f'{num}MA_sent_Neg']=merged_fillna['sentiment_Negative'].rolling(\n",
    "            window=num).mean()\n",
    "            merged_fillna[f'{num}MA_sent_Neu']=merged_fillna['sentiment_Neutral'].rolling(\n",
    "            window=num).mean()\n",
    "            merged_fillna[f'{num}MA_sent_Pos']=merged_fillna['sentiment_Positive'].rolling(\n",
    "            window=num).mean()\n",
    "        ### add moving mode to sentiments\n",
    "        for num in ma_nums:\n",
    "            merged_fillna[f'{num}MM_sent_Neg']=merged_fillna['sentiment_Negative'].rolling(\n",
    "            window=num).apply(mode_window)\n",
    "            merged_fillna[f'{num}MM_sent_Neu']=merged_fillna['sentiment_Neutral'].rolling(\n",
    "            window=num).apply(mode_window)\n",
    "            merged_fillna[f'{num}MM_sent_Pos']=merged_fillna['sentiment_Positive'].rolling(\n",
    "            window=num).apply(mode_window)\n",
    "        ### adding moving mode to topics\n",
    "        for num in ma_nums:\n",
    "            merged_fillna[f'{num}MM_topics']=merged_fillna['topics'].rolling(\n",
    "            window=num).apply(mode_window)\n",
    "\n",
    "        ### drop before 2019-01-02\n",
    "        total_df = merged_fillna.iloc[322:]\n",
    "        total_df = total_df.reset_index(drop=True)\n",
    "\n",
    "        ### drop unnecessaray columns\n",
    "        drop_cols = ['source_name','topics','rank_score',\n",
    "                    'sentiment_Negative','sentiment_Neutral',\n",
    "                    'sentiment_Positive','type_Article','type_Video']\n",
    "        total_df = total_df.drop(columns=drop_cols)\n",
    "\n",
    "        return total_df\n",
    "\n",
    "### When you use local directory\n",
    "stock_filepath = '../../data/stock_price/netflix_60.csv' \n",
    "news_filepath = '../../data/scraping/news_processed_filtered.csv'\n",
    "testfile = '../../data/test.csv'\n",
    "\n",
    "### When you use Colab\n",
    "# stock_filepath = './drive/MyDrive/Colab Notebooks/data/netflix_60.csv'\n",
    "# news_filepath = './drive/MyDrive/Colab Notebooks/data/news_processed_filtered.csv'\n",
    "# testfile = './drive/MyDrive/Colab Notebooks/data/test.csv'\n",
    "\n",
    "### When you use Kaggle Notebook\n",
    "# stock_filepath = '/kaggle/input/netflix-stock-prediction/netflix_60.csv'\n",
    "# news_filepath = '/kaggle/input/netflix-stock-prediction/news_processed_filtered.csv'\n",
    "# testfile = '/kaggle/input/netflix-stock-prediction/test.csv'\n",
    "\n",
    "loader = PrepareData(stock_filepath, news_filepath)\n",
    "stock_df, news_df=loader.load_data() \n",
    "total_df = loader.merging(stock=stock_df, news=news_df) \n",
    "test_df = pd.read_csv(testfile)\n",
    "\n",
    "### fill nan in 'PINS' column\n",
    "stock_df.index = stock_df[\"Date\"]\n",
    "stock_df.drop(columns = \"Date\", inplace = True)\n",
    "stock_df[\"PINS\"].fillna(24.99, inplace = True)\n",
    "total_df.index = total_df[\"Date\"]\n",
    "total_df.drop(columns = \"Date\", inplace = True)\n",
    "total_df[\"PINS\"].fillna(24.99, inplace = True)"
   ]
  },
  {
   "cell_type": "markdown",
   "id": "b8a1c1bb",
   "metadata": {},
   "source": [
    "# Set Parameters\n",
    "- datanames = 'total_df' / 'stock_df'\n",
    "- MODEL = 'Transformer'\n",
    "- TARGET = \"Close\" / \"1d_ROC\"\n",
    "- SEQ_SIZE = 30 / 60 / 120\n",
    "- BATCH_SIZE = 1 / 4 / 8\n",
    "- HIDDEN_SIZE = 64 / 128\n",
    "- N_TRIALS = as much as you want\n",
    "\n",
    "### Transformer model reference\n",
    "- https://github.com/jeffheaton/app_deep_learning/blob/main/t81_558_class_10_3_transformer_timeseries.ipynb"
   ]
  },
  {
   "cell_type": "code",
   "execution_count": 5,
   "id": "913d1151",
   "metadata": {
    "execution": {
     "iopub.execute_input": "2024-02-23T11:53:57.582968Z",
     "iopub.status.busy": "2024-02-23T11:53:57.582089Z",
     "iopub.status.idle": "2024-02-23T21:43:36.614546Z",
     "shell.execute_reply": "2024-02-23T21:43:36.612611Z"
    },
    "papermill": {
     "duration": 35379.090731,
     "end_time": "2024-02-23T21:43:36.663632",
     "exception": false,
     "start_time": "2024-02-23T11:53:57.572901",
     "status": "completed"
    },
    "tags": []
   },
   "outputs": [
    {
     "name": "stdout",
     "output_type": "stream",
     "text": [
      "🔸START - LSTM_total_df_1d_ROC_seq120_batch1_hidden64🔸\n"
     ]
    },
    {
     "name": "stderr",
     "output_type": "stream",
     "text": [
      "  0%|          | 0/50 [00:00<?, ?it/s]"
     ]
    },
    {
     "name": "stdout",
     "output_type": "stream",
     "text": [
      "Epoch 20/1000, Train Loss: 2.4658, Validation Loss: 2.4354\n",
      "Epoch 40/1000, Train Loss: 2.3360, Validation Loss: 2.3609\n",
      "Epoch 60/1000, Train Loss: 2.2509, Validation Loss: 2.3176\n",
      "Epoch 80/1000, Train Loss: 2.1743, Validation Loss: 2.3231\n",
      "Epoch 00096: reducing learning rate of group 0 to 1.0000e-04.\n",
      "Epoch 100/1000, Train Loss: 2.0634, Validation Loss: 2.3361\n"
     ]
    },
    {
     "name": "stderr",
     "output_type": "stream",
     "text": [
      "  2%|▏         | 1/50 [09:38<7:52:06, 578.09s/it]"
     ]
    },
    {
     "name": "stdout",
     "output_type": "stream",
     "text": [
      "Best validation loss : 2.3010590445678845\n",
      "Average Error Rate: 1.71%\n",
      "Epoch 20/1000, Train Loss: 2.4460, Validation Loss: 2.4318\n",
      "Epoch 40/1000, Train Loss: 2.3264, Validation Loss: 2.3523\n",
      "Epoch 60/1000, Train Loss: 2.2477, Validation Loss: 2.3263\n",
      "Epoch 80/1000, Train Loss: 2.1632, Validation Loss: 2.3323\n",
      "Epoch 00095: reducing learning rate of group 0 to 1.0000e-04.\n",
      "Epoch 100/1000, Train Loss: 2.0431, Validation Loss: 2.3096\n"
     ]
    },
    {
     "name": "stderr",
     "output_type": "stream",
     "text": [
      "  4%|▍         | 2/50 [19:08<7:38:55, 573.66s/it]"
     ]
    },
    {
     "name": "stdout",
     "output_type": "stream",
     "text": [
      "Best validation loss : 2.294899584972753\n",
      "Average Error Rate: 1.49%\n",
      "Epoch 20/1000, Train Loss: 2.4639, Validation Loss: 2.4358\n",
      "Epoch 40/1000, Train Loss: 2.3436, Validation Loss: 2.3666\n",
      "Epoch 60/1000, Train Loss: 2.2659, Validation Loss: 2.3452\n",
      "Epoch 80/1000, Train Loss: 2.2075, Validation Loss: 2.3364\n",
      "Epoch 00086: reducing learning rate of group 0 to 1.0000e-04.\n"
     ]
    },
    {
     "name": "stderr",
     "output_type": "stream",
     "text": [
      "  6%|▌         | 3/50 [27:56<7:13:00, 552.77s/it]"
     ]
    },
    {
     "name": "stdout",
     "output_type": "stream",
     "text": [
      "Best validation loss : 2.3081311886816955\n",
      "Average Error Rate: 2.42%\n",
      "Epoch 20/1000, Train Loss: 2.4335, Validation Loss: 2.4041\n",
      "Epoch 40/1000, Train Loss: 2.3332, Validation Loss: 2.3379\n",
      "Epoch 60/1000, Train Loss: 2.2433, Validation Loss: 2.2872\n",
      "Epoch 80/1000, Train Loss: 2.1659, Validation Loss: 2.3111\n",
      "Epoch 00084: reducing learning rate of group 0 to 1.0000e-04.\n"
     ]
    },
    {
     "name": "stderr",
     "output_type": "stream",
     "text": [
      "  8%|▊         | 4/50 [36:30<6:51:58, 537.36s/it]"
     ]
    },
    {
     "name": "stdout",
     "output_type": "stream",
     "text": [
      "Best validation loss : 2.277395541689037\n",
      "Average Error Rate: 1.88%\n",
      "Epoch 20/1000, Train Loss: 2.4696, Validation Loss: 2.4265\n",
      "Epoch 40/1000, Train Loss: 2.3240, Validation Loss: 2.3565\n",
      "Epoch 60/1000, Train Loss: 2.2269, Validation Loss: 2.3501\n",
      "Epoch 80/1000, Train Loss: 2.1686, Validation Loss: 2.3441\n",
      "Epoch 100/1000, Train Loss: 2.0880, Validation Loss: 2.3929\n",
      "Epoch 00109: reducing learning rate of group 0 to 1.0000e-04.\n"
     ]
    },
    {
     "name": "stderr",
     "output_type": "stream",
     "text": [
      " 10%|█         | 5/50 [47:22<7:14:03, 578.75s/it]"
     ]
    },
    {
     "name": "stdout",
     "output_type": "stream",
     "text": [
      "Best validation loss : 2.3207440339358505\n",
      "Average Error Rate: 3.20%\n",
      "Epoch 20/1000, Train Loss: 2.4647, Validation Loss: 2.4230\n",
      "Epoch 40/1000, Train Loss: 2.3411, Validation Loss: 2.3486\n",
      "Epoch 60/1000, Train Loss: 2.2788, Validation Loss: 2.3536\n",
      "Epoch 80/1000, Train Loss: 2.2180, Validation Loss: 2.3571\n",
      "Epoch 00087: reducing learning rate of group 0 to 1.0000e-04.\n"
     ]
    },
    {
     "name": "stderr",
     "output_type": "stream",
     "text": [
      " 12%|█▏        | 6/50 [56:10<6:51:51, 561.61s/it]"
     ]
    },
    {
     "name": "stdout",
     "output_type": "stream",
     "text": [
      "Best validation loss : 2.324164463619215\n",
      "Average Error Rate: 2.45%\n",
      "Epoch 20/1000, Train Loss: 2.4650, Validation Loss: 2.4302\n",
      "Epoch 40/1000, Train Loss: 2.3483, Validation Loss: 2.3489\n",
      "Epoch 60/1000, Train Loss: 2.2594, Validation Loss: 2.3089\n",
      "Epoch 80/1000, Train Loss: 2.1892, Validation Loss: 2.3325\n",
      "Epoch 00088: reducing learning rate of group 0 to 1.0000e-04.\n"
     ]
    },
    {
     "name": "stderr",
     "output_type": "stream",
     "text": [
      " 14%|█▍        | 7/50 [1:05:14<6:38:21, 555.84s/it]"
     ]
    },
    {
     "name": "stdout",
     "output_type": "stream",
     "text": [
      "Best validation loss : 2.296550249103951\n",
      "Average Error Rate: 1.89%\n",
      "Epoch 20/1000, Train Loss: 2.4645, Validation Loss: 2.4378\n",
      "Epoch 40/1000, Train Loss: 2.3599, Validation Loss: 2.3781\n",
      "Epoch 60/1000, Train Loss: 2.2878, Validation Loss: 2.3175\n",
      "Epoch 80/1000, Train Loss: 2.2159, Validation Loss: 2.3372\n",
      "Epoch 00081: reducing learning rate of group 0 to 1.0000e-04.\n"
     ]
    },
    {
     "name": "stderr",
     "output_type": "stream",
     "text": [
      " 16%|█▌        | 8/50 [1:14:49<6:33:20, 561.92s/it]"
     ]
    },
    {
     "name": "stdout",
     "output_type": "stream",
     "text": [
      "Best validation loss : 2.317528729417683\n",
      "Average Error Rate: 1.99%\n",
      "Epoch 20/1000, Train Loss: 2.4493, Validation Loss: 2.4125\n",
      "Epoch 40/1000, Train Loss: 2.3121, Validation Loss: 2.3462\n",
      "Epoch 60/1000, Train Loss: 2.2515, Validation Loss: 2.3487\n",
      "Epoch 80/1000, Train Loss: 2.1712, Validation Loss: 2.3471\n",
      "Epoch 00088: reducing learning rate of group 0 to 1.0000e-04.\n"
     ]
    },
    {
     "name": "stderr",
     "output_type": "stream",
     "text": [
      " 18%|█▊        | 9/50 [1:24:58<6:33:54, 576.45s/it]"
     ]
    },
    {
     "name": "stdout",
     "output_type": "stream",
     "text": [
      "Best validation loss : 2.303287603686341\n",
      "Average Error Rate: 1.69%\n",
      "Epoch 20/1000, Train Loss: 2.3865, Validation Loss: 2.3557\n",
      "Epoch 40/1000, Train Loss: 2.3136, Validation Loss: 2.3541\n",
      "Epoch 60/1000, Train Loss: 2.2210, Validation Loss: 2.3308\n",
      "Epoch 00068: reducing learning rate of group 0 to 1.0000e-04.\n",
      "Epoch 80/1000, Train Loss: 2.1061, Validation Loss: 2.2961\n",
      "Epoch 100/1000, Train Loss: 2.0756, Validation Loss: 2.2976\n",
      "Epoch 00115: reducing learning rate of group 0 to 1.0000e-05.\n",
      "Epoch 120/1000, Train Loss: 2.0565, Validation Loss: 2.2979\n"
     ]
    },
    {
     "name": "stderr",
     "output_type": "stream",
     "text": [
      " 20%|██        | 10/50 [1:37:19<6:58:14, 627.35s/it]"
     ]
    },
    {
     "name": "stdout",
     "output_type": "stream",
     "text": [
      "Best validation loss : 2.2914648662626216\n",
      "Average Error Rate: 4.48%\n",
      "Epoch 20/1000, Train Loss: 2.4612, Validation Loss: 2.4312\n",
      "Epoch 40/1000, Train Loss: 2.3434, Validation Loss: 2.3544\n",
      "Epoch 60/1000, Train Loss: 2.2925, Validation Loss: 2.3447\n",
      "Epoch 80/1000, Train Loss: 2.2413, Validation Loss: 2.3765\n",
      "Epoch 00086: reducing learning rate of group 0 to 1.0000e-04.\n"
     ]
    },
    {
     "name": "stderr",
     "output_type": "stream",
     "text": [
      " 22%|██▏       | 11/50 [1:46:10<6:28:42, 598.01s/it]"
     ]
    },
    {
     "name": "stdout",
     "output_type": "stream",
     "text": [
      "Best validation loss : 2.3416495505159935\n",
      "Average Error Rate: 2.81%\n",
      "Epoch 20/1000, Train Loss: 2.4354, Validation Loss: 2.4142\n",
      "Epoch 40/1000, Train Loss: 2.3241, Validation Loss: 2.3360\n",
      "Epoch 60/1000, Train Loss: 2.2274, Validation Loss: 2.3149\n",
      "Epoch 80/1000, Train Loss: 2.1656, Validation Loss: 2.3292\n",
      "Epoch 00087: reducing learning rate of group 0 to 1.0000e-04.\n"
     ]
    },
    {
     "name": "stderr",
     "output_type": "stream",
     "text": [
      " 24%|██▍       | 12/50 [1:55:09<6:07:19, 580.00s/it]"
     ]
    },
    {
     "name": "stdout",
     "output_type": "stream",
     "text": [
      "Best validation loss : 2.304629064239232\n",
      "Average Error Rate: 1.27%\n",
      "Epoch 20/1000, Train Loss: 2.4634, Validation Loss: 2.4275\n",
      "Epoch 40/1000, Train Loss: 2.3373, Validation Loss: 2.3511\n",
      "Epoch 60/1000, Train Loss: 2.2603, Validation Loss: 2.3212\n",
      "Epoch 80/1000, Train Loss: 2.1898, Validation Loss: 2.3722\n",
      "Epoch 00083: reducing learning rate of group 0 to 1.0000e-04.\n"
     ]
    },
    {
     "name": "stderr",
     "output_type": "stream",
     "text": [
      " 26%|██▌       | 13/50 [2:04:31<5:54:12, 574.40s/it]"
     ]
    },
    {
     "name": "stdout",
     "output_type": "stream",
     "text": [
      "Best validation loss : 2.3141227612453226\n",
      "Average Error Rate: 1.38%\n",
      "Epoch 20/1000, Train Loss: 2.4572, Validation Loss: 2.4322\n",
      "Epoch 40/1000, Train Loss: 2.3309, Validation Loss: 2.3431\n",
      "Epoch 60/1000, Train Loss: 2.2620, Validation Loss: 2.3476\n",
      "Epoch 80/1000, Train Loss: 2.1811, Validation Loss: 2.3441\n",
      "Epoch 100/1000, Train Loss: 2.1194, Validation Loss: 2.3205\n",
      "Epoch 00116: reducing learning rate of group 0 to 1.0000e-04.\n",
      "Epoch 120/1000, Train Loss: 1.9917, Validation Loss: 2.3235\n"
     ]
    },
    {
     "name": "stderr",
     "output_type": "stream",
     "text": [
      " 28%|██▊       | 14/50 [2:19:31<6:43:41, 672.81s/it]"
     ]
    },
    {
     "name": "stdout",
     "output_type": "stream",
     "text": [
      "Best validation loss : 2.293303478608089\n",
      "Average Error Rate: 1.85%\n",
      "Epoch 20/1000, Train Loss: 2.4337, Validation Loss: 2.3969\n",
      "Epoch 40/1000, Train Loss: 2.3297, Validation Loss: 2.3457\n",
      "Epoch 60/1000, Train Loss: 2.2417, Validation Loss: 2.3068\n",
      "Epoch 80/1000, Train Loss: 2.1806, Validation Loss: 2.3168\n",
      "Epoch 00089: reducing learning rate of group 0 to 1.0000e-04.\n",
      "Epoch 100/1000, Train Loss: 2.0602, Validation Loss: 2.2919\n",
      "Epoch 00119: reducing learning rate of group 0 to 1.0000e-05.\n",
      "Epoch 120/1000, Train Loss: 2.0306, Validation Loss: 2.2911\n",
      "Epoch 00140: reducing learning rate of group 0 to 1.0000e-06.\n",
      "Epoch 140/1000, Train Loss: 2.0225, Validation Loss: 2.2921\n"
     ]
    },
    {
     "name": "stderr",
     "output_type": "stream",
     "text": [
      " 30%|███       | 15/50 [2:35:44<7:25:16, 763.33s/it]"
     ]
    },
    {
     "name": "stdout",
     "output_type": "stream",
     "text": [
      "Best validation loss : 2.2877025118971295\n",
      "Average Error Rate: 1.29%\n",
      "Epoch 20/1000, Train Loss: 2.4513, Validation Loss: 2.4219\n",
      "Epoch 40/1000, Train Loss: 2.3217, Validation Loss: 2.3522\n",
      "Epoch 60/1000, Train Loss: 2.2643, Validation Loss: 2.3662\n",
      "Epoch 00072: reducing learning rate of group 0 to 1.0000e-04.\n",
      "Epoch 80/1000, Train Loss: 2.1372, Validation Loss: 2.3292\n"
     ]
    },
    {
     "name": "stderr",
     "output_type": "stream",
     "text": [
      " 32%|███▏      | 16/50 [2:44:48<6:35:08, 697.30s/it]"
     ]
    },
    {
     "name": "stdout",
     "output_type": "stream",
     "text": [
      "Best validation loss : 2.3248801373802457\n",
      "Average Error Rate: 1.29%\n",
      "Epoch 20/1000, Train Loss: 2.4632, Validation Loss: 2.4303\n",
      "Epoch 40/1000, Train Loss: 2.3336, Validation Loss: 2.3589\n",
      "Epoch 60/1000, Train Loss: 2.2500, Validation Loss: 2.3517\n",
      "Epoch 80/1000, Train Loss: 2.2032, Validation Loss: 2.3605\n",
      "Epoch 00086: reducing learning rate of group 0 to 1.0000e-04.\n"
     ]
    },
    {
     "name": "stderr",
     "output_type": "stream",
     "text": [
      " 34%|███▍      | 17/50 [2:54:53<6:08:10, 669.41s/it]"
     ]
    },
    {
     "name": "stdout",
     "output_type": "stream",
     "text": [
      "Best validation loss : 2.3305227010123497\n",
      "Average Error Rate: 1.32%\n",
      "Epoch 20/1000, Train Loss: 2.4396, Validation Loss: 2.4130\n",
      "Epoch 40/1000, Train Loss: 2.3235, Validation Loss: 2.3664\n",
      "Epoch 60/1000, Train Loss: 2.2618, Validation Loss: 2.3811\n",
      "Epoch 00068: reducing learning rate of group 0 to 1.0000e-04.\n",
      "Epoch 80/1000, Train Loss: 2.1574, Validation Loss: 2.3615\n"
     ]
    },
    {
     "name": "stderr",
     "output_type": "stream",
     "text": [
      " 36%|███▌      | 18/50 [3:04:07<5:38:35, 634.86s/it]"
     ]
    },
    {
     "name": "stdout",
     "output_type": "stream",
     "text": [
      "Best validation loss : 2.348036739414772\n",
      "Average Error Rate: 2.40%\n",
      "Epoch 20/1000, Train Loss: 2.4507, Validation Loss: 2.4187\n",
      "Epoch 40/1000, Train Loss: 2.3367, Validation Loss: 2.3522\n",
      "Epoch 60/1000, Train Loss: 2.2634, Validation Loss: 2.3302\n",
      "Epoch 80/1000, Train Loss: 2.2155, Validation Loss: 2.3383\n",
      "Epoch 100/1000, Train Loss: 2.1450, Validation Loss: 2.3047\n",
      "Epoch 00118: reducing learning rate of group 0 to 1.0000e-04.\n",
      "Epoch 120/1000, Train Loss: 2.0408, Validation Loss: 2.2752\n",
      "Epoch 00140: reducing learning rate of group 0 to 1.0000e-05.\n",
      "Epoch 140/1000, Train Loss: 1.9942, Validation Loss: 2.2918\n"
     ]
    },
    {
     "name": "stderr",
     "output_type": "stream",
     "text": [
      " 38%|███▊      | 19/50 [3:20:04<6:18:00, 731.62s/it]"
     ]
    },
    {
     "name": "stdout",
     "output_type": "stream",
     "text": [
      "Best validation loss : 2.273347794482138\n",
      "Average Error Rate: 3.14%\n",
      "Epoch 20/1000, Train Loss: 2.4712, Validation Loss: 2.4228\n",
      "Epoch 40/1000, Train Loss: 2.4145, Validation Loss: 2.3943\n",
      "Epoch 60/1000, Train Loss: 2.3074, Validation Loss: 2.3725\n",
      "Epoch 80/1000, Train Loss: 2.2528, Validation Loss: 2.3832\n",
      "Epoch 100/1000, Train Loss: 2.1746, Validation Loss: 2.3627\n",
      "Epoch 00118: reducing learning rate of group 0 to 1.0000e-04.\n",
      "Epoch 120/1000, Train Loss: 2.0664, Validation Loss: 2.3440\n"
     ]
    },
    {
     "name": "stderr",
     "output_type": "stream",
     "text": [
      " 40%|████      | 20/50 [3:33:25<6:16:12, 752.43s/it]"
     ]
    },
    {
     "name": "stdout",
     "output_type": "stream",
     "text": [
      "Best validation loss : 2.3265776019708246\n",
      "Average Error Rate: 1.67%\n",
      "Epoch 20/1000, Train Loss: 2.4543, Validation Loss: 2.4258\n",
      "Epoch 40/1000, Train Loss: 2.3327, Validation Loss: 2.3462\n",
      "Epoch 60/1000, Train Loss: 2.2466, Validation Loss: 2.3283\n",
      "Epoch 00070: reducing learning rate of group 0 to 1.0000e-04.\n"
     ]
    },
    {
     "name": "stderr",
     "output_type": "stream",
     "text": [
      " 42%|████▏     | 21/50 [3:41:53<5:28:11, 679.03s/it]"
     ]
    },
    {
     "name": "stdout",
     "output_type": "stream",
     "text": [
      "Epoch 80/1000, Train Loss: 2.1408, Validation Loss: 2.3292\n",
      "Best validation loss : 2.321402068422959\n",
      "Average Error Rate: 2.41%\n",
      "Epoch 20/1000, Train Loss: 2.4250, Validation Loss: 2.3863\n",
      "Epoch 40/1000, Train Loss: 2.3254, Validation Loss: 2.3629\n",
      "Epoch 60/1000, Train Loss: 2.2542, Validation Loss: 2.3376\n",
      "Epoch 80/1000, Train Loss: 2.1981, Validation Loss: 2.3449\n",
      "Epoch 00094: reducing learning rate of group 0 to 1.0000e-04.\n",
      "Epoch 100/1000, Train Loss: 2.0712, Validation Loss: 2.3352\n"
     ]
    },
    {
     "name": "stderr",
     "output_type": "stream",
     "text": [
      " 44%|████▍     | 22/50 [3:52:45<5:13:09, 671.07s/it]"
     ]
    },
    {
     "name": "stdout",
     "output_type": "stream",
     "text": [
      "Best validation loss : 2.313290510293657\n",
      "Average Error Rate: 5.08%\n",
      "Epoch 20/1000, Train Loss: 2.4626, Validation Loss: 2.4354\n",
      "Epoch 40/1000, Train Loss: 2.3473, Validation Loss: 2.3693\n",
      "Epoch 60/1000, Train Loss: 2.2786, Validation Loss: 2.3444\n",
      "Epoch 80/1000, Train Loss: 2.1992, Validation Loss: 2.3536\n",
      "Epoch 00095: reducing learning rate of group 0 to 1.0000e-04.\n",
      "Epoch 100/1000, Train Loss: 2.0487, Validation Loss: 2.3468\n"
     ]
    },
    {
     "name": "stderr",
     "output_type": "stream",
     "text": [
      " 46%|████▌     | 23/50 [4:03:41<4:59:51, 666.34s/it]"
     ]
    },
    {
     "name": "stdout",
     "output_type": "stream",
     "text": [
      "Best validation loss : 2.326701808292254\n",
      "Average Error Rate: 1.95%\n",
      "Epoch 20/1000, Train Loss: 2.4583, Validation Loss: 2.4398\n",
      "Epoch 40/1000, Train Loss: 2.3296, Validation Loss: 2.3415\n",
      "Epoch 60/1000, Train Loss: 2.2681, Validation Loss: 2.3370\n",
      "Epoch 80/1000, Train Loss: 2.2092, Validation Loss: 2.3443\n",
      "Epoch 00086: reducing learning rate of group 0 to 1.0000e-04.\n"
     ]
    },
    {
     "name": "stderr",
     "output_type": "stream",
     "text": [
      " 48%|████▊     | 24/50 [4:14:14<4:44:29, 656.52s/it]"
     ]
    },
    {
     "name": "stdout",
     "output_type": "stream",
     "text": [
      "Best validation loss : 2.321975667392258\n",
      "Average Error Rate: 1.73%\n",
      "Epoch 20/1000, Train Loss: 2.4661, Validation Loss: 2.4295\n",
      "Epoch 40/1000, Train Loss: 2.3480, Validation Loss: 2.3505\n",
      "Epoch 60/1000, Train Loss: 2.2773, Validation Loss: 2.3311\n",
      "Epoch 00075: reducing learning rate of group 0 to 1.0000e-04.\n",
      "Epoch 80/1000, Train Loss: 2.1744, Validation Loss: 2.3186\n",
      "Epoch 100/1000, Train Loss: 2.1432, Validation Loss: 2.3185\n",
      "Epoch 00104: reducing learning rate of group 0 to 1.0000e-05.\n"
     ]
    },
    {
     "name": "stderr",
     "output_type": "stream",
     "text": [
      " 50%|█████     | 25/50 [4:26:46<4:45:24, 684.99s/it]"
     ]
    },
    {
     "name": "stdout",
     "output_type": "stream",
     "text": [
      "Best validation loss : 2.3134339673329243\n",
      "Average Error Rate: 1.30%\n",
      "Epoch 20/1000, Train Loss: 2.4692, Validation Loss: 2.4309\n",
      "Epoch 40/1000, Train Loss: 2.3502, Validation Loss: 2.3569\n",
      "Epoch 60/1000, Train Loss: 2.3005, Validation Loss: 2.3695\n",
      "Epoch 00069: reducing learning rate of group 0 to 1.0000e-04.\n"
     ]
    },
    {
     "name": "stderr",
     "output_type": "stream",
     "text": [
      " 52%|█████▏    | 26/50 [4:35:04<4:11:37, 629.06s/it]"
     ]
    },
    {
     "name": "stdout",
     "output_type": "stream",
     "text": [
      "Best validation loss : 2.3477999185566354\n",
      "Average Error Rate: 2.56%\n",
      "Epoch 20/1000, Train Loss: 2.4699, Validation Loss: 2.4323\n",
      "Epoch 40/1000, Train Loss: 2.3544, Validation Loss: 2.3656\n",
      "Epoch 60/1000, Train Loss: 2.2904, Validation Loss: 2.3564\n",
      "Epoch 80/1000, Train Loss: 2.2264, Validation Loss: 2.3318\n",
      "Epoch 00099: reducing learning rate of group 0 to 1.0000e-04.\n",
      "Epoch 100/1000, Train Loss: 2.1286, Validation Loss: 2.3401\n",
      "Epoch 120/1000, Train Loss: 2.0526, Validation Loss: 2.3072\n",
      "Epoch 00138: reducing learning rate of group 0 to 1.0000e-05.\n",
      "Epoch 140/1000, Train Loss: 2.0305, Validation Loss: 2.3082\n"
     ]
    },
    {
     "name": "stderr",
     "output_type": "stream",
     "text": [
      " 54%|█████▍    | 27/50 [4:51:01<4:38:47, 727.30s/it]"
     ]
    },
    {
     "name": "stdout",
     "output_type": "stream",
     "text": [
      "Best validation loss : 2.304121582381493\n",
      "Average Error Rate: 2.99%\n",
      "Epoch 20/1000, Train Loss: 2.4582, Validation Loss: 2.4361\n",
      "Epoch 40/1000, Train Loss: 2.3436, Validation Loss: 2.3643\n",
      "Epoch 60/1000, Train Loss: 2.2797, Validation Loss: 2.3438\n",
      "Epoch 80/1000, Train Loss: 2.1904, Validation Loss: 2.3396\n",
      "Epoch 100/1000, Train Loss: 2.1234, Validation Loss: 2.3672\n",
      "Epoch 00106: reducing learning rate of group 0 to 1.0000e-04.\n"
     ]
    },
    {
     "name": "stderr",
     "output_type": "stream",
     "text": [
      " 56%|█████▌    | 28/50 [5:03:07<4:26:35, 727.09s/it]"
     ]
    },
    {
     "name": "stdout",
     "output_type": "stream",
     "text": [
      "Best validation loss : 2.324450567760299\n",
      "Average Error Rate: 3.17%\n",
      "Epoch 20/1000, Train Loss: 2.4473, Validation Loss: 2.4173\n",
      "Epoch 40/1000, Train Loss: 2.3201, Validation Loss: 2.3401\n",
      "Epoch 60/1000, Train Loss: 2.2782, Validation Loss: 2.3063\n",
      "Epoch 80/1000, Train Loss: 2.1836, Validation Loss: 2.3136\n",
      "Epoch 100/1000, Train Loss: 2.1253, Validation Loss: 2.3106\n",
      "Epoch 00115: reducing learning rate of group 0 to 1.0000e-04.\n",
      "Epoch 120/1000, Train Loss: 1.9964, Validation Loss: 2.2938\n"
     ]
    },
    {
     "name": "stderr",
     "output_type": "stream",
     "text": [
      " 58%|█████▊    | 29/50 [5:17:07<4:26:16, 760.78s/it]"
     ]
    },
    {
     "name": "stdout",
     "output_type": "stream",
     "text": [
      "Best validation loss : 2.266063366316061\n",
      "Average Error Rate: 1.69%\n",
      "Epoch 20/1000, Train Loss: 2.4408, Validation Loss: 2.4138\n",
      "Epoch 40/1000, Train Loss: 2.3404, Validation Loss: 2.3464\n",
      "Epoch 60/1000, Train Loss: 2.2527, Validation Loss: 2.3392\n",
      "Epoch 00079: reducing learning rate of group 0 to 1.0000e-04.\n",
      "Epoch 80/1000, Train Loss: 2.1569, Validation Loss: 2.3105\n",
      "Epoch 100/1000, Train Loss: 2.0805, Validation Loss: 2.3177\n",
      "Epoch 00101: reducing learning rate of group 0 to 1.0000e-05.\n"
     ]
    },
    {
     "name": "stderr",
     "output_type": "stream",
     "text": [
      " 60%|██████    | 30/50 [5:30:21<4:16:54, 770.70s/it]"
     ]
    },
    {
     "name": "stdout",
     "output_type": "stream",
     "text": [
      "Best validation loss : 2.3105006075538363\n",
      "Average Error Rate: 1.58%\n",
      "Epoch 20/1000, Train Loss: 2.4682, Validation Loss: 2.4233\n",
      "Epoch 40/1000, Train Loss: 2.3335, Validation Loss: 2.3404\n",
      "Epoch 60/1000, Train Loss: 2.2597, Validation Loss: 2.3502\n",
      "Epoch 80/1000, Train Loss: 2.1934, Validation Loss: 2.3173\n",
      "Epoch 100/1000, Train Loss: 2.1290, Validation Loss: 2.3366\n",
      "Epoch 00103: reducing learning rate of group 0 to 1.0000e-04.\n",
      "Epoch 120/1000, Train Loss: 2.0357, Validation Loss: 2.3133\n",
      "Epoch 00131: reducing learning rate of group 0 to 1.0000e-05.\n"
     ]
    },
    {
     "name": "stderr",
     "output_type": "stream",
     "text": [
      " 62%|██████▏   | 31/50 [5:46:59<4:25:44, 839.16s/it]"
     ]
    },
    {
     "name": "stdout",
     "output_type": "stream",
     "text": [
      "Epoch 140/1000, Train Loss: 2.0041, Validation Loss: 2.3263\n",
      "Best validation loss : 2.3082962439650982\n",
      "Average Error Rate: 1.80%\n",
      "Epoch 20/1000, Train Loss: 2.4579, Validation Loss: 2.4446\n",
      "Epoch 40/1000, Train Loss: 2.3424, Validation Loss: 2.3517\n",
      "Epoch 00059: reducing learning rate of group 0 to 1.0000e-04.\n",
      "Epoch 60/1000, Train Loss: 2.2334, Validation Loss: 2.3420\n",
      "Epoch 80/1000, Train Loss: 2.1899, Validation Loss: 2.3354\n",
      "Epoch 00094: reducing learning rate of group 0 to 1.0000e-05.\n",
      "Epoch 100/1000, Train Loss: 2.1699, Validation Loss: 2.3319\n"
     ]
    },
    {
     "name": "stderr",
     "output_type": "stream",
     "text": [
      " 64%|██████▍   | 32/50 [5:58:36<3:58:54, 796.38s/it]"
     ]
    },
    {
     "name": "stdout",
     "output_type": "stream",
     "text": [
      "Best validation loss : 2.326345155988119\n",
      "Average Error Rate: 2.92%\n",
      "Epoch 20/1000, Train Loss: 2.4537, Validation Loss: 2.4294\n",
      "Epoch 40/1000, Train Loss: 2.3359, Validation Loss: 2.3408\n",
      "Epoch 60/1000, Train Loss: 2.2635, Validation Loss: 2.3278\n",
      "Epoch 80/1000, Train Loss: 2.2037, Validation Loss: 2.3269\n",
      "Epoch 00098: reducing learning rate of group 0 to 1.0000e-04.\n",
      "Epoch 100/1000, Train Loss: 2.0856, Validation Loss: 2.3164\n"
     ]
    },
    {
     "name": "stderr",
     "output_type": "stream",
     "text": [
      " 66%|██████▌   | 33/50 [6:10:16<3:37:24, 767.33s/it]"
     ]
    },
    {
     "name": "stdout",
     "output_type": "stream",
     "text": [
      "Best validation loss : 2.307634722078796\n",
      "Average Error Rate: 3.77%\n",
      "Epoch 20/1000, Train Loss: 2.4594, Validation Loss: 2.4517\n",
      "Epoch 40/1000, Train Loss: 2.3291, Validation Loss: 2.3315\n",
      "Epoch 60/1000, Train Loss: 2.2536, Validation Loss: 2.3121\n",
      "Epoch 80/1000, Train Loss: 2.1834, Validation Loss: 2.3483\n",
      "Epoch 00088: reducing learning rate of group 0 to 1.0000e-04.\n"
     ]
    },
    {
     "name": "stderr",
     "output_type": "stream",
     "text": [
      " 68%|██████▊   | 34/50 [6:20:59<3:14:43, 730.21s/it]"
     ]
    },
    {
     "name": "stdout",
     "output_type": "stream",
     "text": [
      "Best validation loss : 2.3012702351650307\n",
      "Average Error Rate: 3.09%\n",
      "Epoch 20/1000, Train Loss: 2.4677, Validation Loss: 2.4356\n",
      "Epoch 40/1000, Train Loss: 2.3680, Validation Loss: 2.3920\n",
      "Epoch 60/1000, Train Loss: 2.3000, Validation Loss: 2.3384\n",
      "Epoch 80/1000, Train Loss: 2.2382, Validation Loss: 2.3566\n",
      "Epoch 00092: reducing learning rate of group 0 to 1.0000e-04.\n",
      "Epoch 100/1000, Train Loss: 2.1242, Validation Loss: 2.3423\n"
     ]
    },
    {
     "name": "stderr",
     "output_type": "stream",
     "text": [
      " 70%|███████   | 35/50 [6:32:20<2:58:52, 715.47s/it]"
     ]
    },
    {
     "name": "stdout",
     "output_type": "stream",
     "text": [
      "Best validation loss : 2.332940539955038\n",
      "Average Error Rate: 1.77%\n",
      "Epoch 20/1000, Train Loss: 2.4663, Validation Loss: 2.4237\n",
      "Epoch 40/1000, Train Loss: 2.3304, Validation Loss: 2.3450\n",
      "Epoch 60/1000, Train Loss: 2.2699, Validation Loss: 2.3232\n",
      "Epoch 00071: reducing learning rate of group 0 to 1.0000e-04.\n",
      "Epoch 80/1000, Train Loss: 2.1659, Validation Loss: 2.3219\n",
      "Epoch 100/1000, Train Loss: 2.1400, Validation Loss: 2.3173\n",
      "Epoch 00108: reducing learning rate of group 0 to 1.0000e-05.\n"
     ]
    },
    {
     "name": "stderr",
     "output_type": "stream",
     "text": [
      " 72%|███████▏  | 36/50 [6:45:38<2:52:43, 740.23s/it]"
     ]
    },
    {
     "name": "stdout",
     "output_type": "stream",
     "text": [
      "Best validation loss : 2.314810341702098\n",
      "Average Error Rate: 1.74%\n",
      "Epoch 20/1000, Train Loss: 2.4466, Validation Loss: 2.4261\n",
      "Epoch 40/1000, Train Loss: 2.3385, Validation Loss: 2.3542\n",
      "Epoch 60/1000, Train Loss: 2.2627, Validation Loss: 2.3258\n",
      "Epoch 80/1000, Train Loss: 2.1902, Validation Loss: 2.3484\n",
      "Epoch 100/1000, Train Loss: 2.1416, Validation Loss: 2.3354\n",
      "Epoch 00108: reducing learning rate of group 0 to 1.0000e-04.\n"
     ]
    },
    {
     "name": "stderr",
     "output_type": "stream",
     "text": [
      " 74%|███████▍  | 37/50 [6:58:25<2:42:07, 748.30s/it]"
     ]
    },
    {
     "name": "stdout",
     "output_type": "stream",
     "text": [
      "Best validation loss : 2.303737133741379\n",
      "Average Error Rate: 3.13%\n",
      "Epoch 20/1000, Train Loss: 2.4679, Validation Loss: 2.4309\n",
      "Epoch 40/1000, Train Loss: 2.3473, Validation Loss: 2.3424\n",
      "Epoch 60/1000, Train Loss: 2.2853, Validation Loss: 2.3072\n",
      "Epoch 80/1000, Train Loss: 2.2303, Validation Loss: 2.3318\n",
      "Epoch 00092: reducing learning rate of group 0 to 1.0000e-04.\n",
      "Epoch 100/1000, Train Loss: 2.1223, Validation Loss: 2.2912\n",
      "Epoch 120/1000, Train Loss: 2.0959, Validation Loss: 2.2929\n",
      "Epoch 00122: reducing learning rate of group 0 to 1.0000e-05.\n"
     ]
    },
    {
     "name": "stderr",
     "output_type": "stream",
     "text": [
      " 76%|███████▌  | 38/50 [7:12:58<2:37:05, 785.48s/it]"
     ]
    },
    {
     "name": "stdout",
     "output_type": "stream",
     "text": [
      "Best validation loss : 2.290916478211901\n",
      "Average Error Rate: 1.88%\n",
      "Epoch 20/1000, Train Loss: 2.4684, Validation Loss: 2.4259\n",
      "Epoch 40/1000, Train Loss: 2.3738, Validation Loss: 2.3795\n",
      "Epoch 60/1000, Train Loss: 2.2740, Validation Loss: 2.3169\n",
      "Epoch 80/1000, Train Loss: 2.1753, Validation Loss: 2.3364\n",
      "Epoch 00094: reducing learning rate of group 0 to 1.0000e-04.\n",
      "Epoch 100/1000, Train Loss: 2.0516, Validation Loss: 2.3157\n"
     ]
    },
    {
     "name": "stderr",
     "output_type": "stream",
     "text": [
      " 78%|███████▊  | 39/50 [7:24:39<2:19:22, 760.23s/it]"
     ]
    },
    {
     "name": "stdout",
     "output_type": "stream",
     "text": [
      "Best validation loss : 2.297736861273251\n",
      "Average Error Rate: 1.53%\n",
      "Epoch 20/1000, Train Loss: 2.4677, Validation Loss: 2.4265\n",
      "Epoch 40/1000, Train Loss: 2.3450, Validation Loss: 2.3637\n",
      "Epoch 60/1000, Train Loss: 2.2630, Validation Loss: 2.3393\n",
      "Epoch 80/1000, Train Loss: 2.1747, Validation Loss: 2.3314\n",
      "Epoch 00095: reducing learning rate of group 0 to 1.0000e-04.\n",
      "Epoch 100/1000, Train Loss: 2.0411, Validation Loss: 2.3281\n"
     ]
    },
    {
     "name": "stderr",
     "output_type": "stream",
     "text": [
      " 80%|████████  | 40/50 [7:36:24<2:03:55, 743.59s/it]"
     ]
    },
    {
     "name": "stdout",
     "output_type": "stream",
     "text": [
      "Best validation loss : 2.309623568458895\n",
      "Average Error Rate: 1.73%\n",
      "Epoch 20/1000, Train Loss: 2.4065, Validation Loss: 2.3899\n",
      "Epoch 40/1000, Train Loss: 2.3106, Validation Loss: 2.3396\n",
      "Epoch 60/1000, Train Loss: 2.2280, Validation Loss: 2.2922\n",
      "Epoch 00080: reducing learning rate of group 0 to 1.0000e-04.\n",
      "Epoch 80/1000, Train Loss: 2.1373, Validation Loss: 2.3137\n",
      "Epoch 100/1000, Train Loss: 2.0281, Validation Loss: 2.2635\n",
      "Epoch 120/1000, Train Loss: 1.9988, Validation Loss: 2.2665\n",
      "Epoch 00134: reducing learning rate of group 0 to 1.0000e-05.\n",
      "Epoch 140/1000, Train Loss: 1.9797, Validation Loss: 2.2708\n"
     ]
    },
    {
     "name": "stderr",
     "output_type": "stream",
     "text": [
      " 82%|████████▏ | 41/50 [7:52:13<2:00:48, 805.34s/it]"
     ]
    },
    {
     "name": "stdout",
     "output_type": "stream",
     "text": [
      "Best validation loss : 2.258739370687873\n",
      "Average Error Rate: 2.69%\n",
      "Epoch 20/1000, Train Loss: 2.4424, Validation Loss: 2.4340\n",
      "Epoch 40/1000, Train Loss: 2.3190, Validation Loss: 2.3334\n",
      "Epoch 60/1000, Train Loss: 2.2478, Validation Loss: 2.3224\n",
      "Epoch 00069: reducing learning rate of group 0 to 1.0000e-04.\n"
     ]
    },
    {
     "name": "stderr",
     "output_type": "stream",
     "text": [
      " 84%|████████▍ | 42/50 [8:00:36<1:35:17, 714.67s/it]"
     ]
    },
    {
     "name": "stdout",
     "output_type": "stream",
     "text": [
      "Best validation loss : 2.309472567212265\n",
      "Average Error Rate: 2.09%\n",
      "Epoch 20/1000, Train Loss: 2.4610, Validation Loss: 2.4484\n",
      "Epoch 40/1000, Train Loss: 2.3208, Validation Loss: 2.3497\n",
      "Epoch 60/1000, Train Loss: 2.2359, Validation Loss: 2.3236\n",
      "Epoch 80/1000, Train Loss: 2.1560, Validation Loss: 2.3334\n",
      "Epoch 00092: reducing learning rate of group 0 to 1.0000e-04.\n",
      "Epoch 100/1000, Train Loss: 2.0195, Validation Loss: 2.3127\n",
      "Epoch 00116: reducing learning rate of group 0 to 1.0000e-05.\n",
      "Epoch 120/1000, Train Loss: 1.9905, Validation Loss: 2.3219\n"
     ]
    },
    {
     "name": "stderr",
     "output_type": "stream",
     "text": [
      " 86%|████████▌ | 43/50 [8:14:19<1:27:10, 747.16s/it]"
     ]
    },
    {
     "name": "stdout",
     "output_type": "stream",
     "text": [
      "Best validation loss : 2.307864250071281\n",
      "Average Error Rate: 2.70%\n",
      "Epoch 20/1000, Train Loss: 2.4639, Validation Loss: 2.4477\n",
      "Epoch 40/1000, Train Loss: 2.3619, Validation Loss: 2.3805\n",
      "Epoch 60/1000, Train Loss: 2.2827, Validation Loss: 2.3307\n",
      "Epoch 80/1000, Train Loss: 2.2382, Validation Loss: 2.3429\n",
      "Epoch 00081: reducing learning rate of group 0 to 1.0000e-04.\n",
      "Epoch 100/1000, Train Loss: 2.1484, Validation Loss: 2.3077\n",
      "Epoch 120/1000, Train Loss: 2.1285, Validation Loss: 2.3098\n",
      "Epoch 00121: reducing learning rate of group 0 to 1.0000e-05.\n"
     ]
    },
    {
     "name": "stderr",
     "output_type": "stream",
     "text": [
      " 88%|████████▊ | 44/50 [8:28:43<1:18:12, 782.10s/it]"
     ]
    },
    {
     "name": "stdout",
     "output_type": "stream",
     "text": [
      "Best validation loss : 2.307678946351583\n",
      "Average Error Rate: 2.30%\n",
      "Epoch 20/1000, Train Loss: 2.4552, Validation Loss: 2.4209\n",
      "Epoch 40/1000, Train Loss: 2.3311, Validation Loss: 2.3587\n",
      "Epoch 60/1000, Train Loss: 2.2848, Validation Loss: 2.3576\n",
      "Epoch 00070: reducing learning rate of group 0 to 1.0000e-04.\n"
     ]
    },
    {
     "name": "stderr",
     "output_type": "stream",
     "text": [
      " 90%|█████████ | 45/50 [8:37:50<59:18, 711.75s/it]  "
     ]
    },
    {
     "name": "stdout",
     "output_type": "stream",
     "text": [
      "Best validation loss : 2.3420727144827884\n",
      "Average Error Rate: 4.82%\n",
      "Epoch 20/1000, Train Loss: 2.4198, Validation Loss: 2.3898\n",
      "Epoch 40/1000, Train Loss: 2.3067, Validation Loss: 2.3378\n",
      "Epoch 60/1000, Train Loss: 2.2258, Validation Loss: 2.3007\n",
      "Epoch 80/1000, Train Loss: 2.1700, Validation Loss: 2.3013\n",
      "Epoch 00095: reducing learning rate of group 0 to 1.0000e-04.\n",
      "Epoch 100/1000, Train Loss: 2.0241, Validation Loss: 2.3047\n",
      "Epoch 120/1000, Train Loss: 1.9824, Validation Loss: 2.3085\n",
      "Epoch 00125: reducing learning rate of group 0 to 1.0000e-05.\n"
     ]
    },
    {
     "name": "stderr",
     "output_type": "stream",
     "text": [
      " 92%|█████████▏| 46/50 [8:52:55<51:18, 769.61s/it]"
     ]
    },
    {
     "name": "stdout",
     "output_type": "stream",
     "text": [
      "Best validation loss : 2.29601536572507\n",
      "Average Error Rate: 2.15%\n",
      "Epoch 20/1000, Train Loss: 2.4641, Validation Loss: 2.4358\n",
      "Epoch 40/1000, Train Loss: 2.3274, Validation Loss: 2.3553\n",
      "Epoch 60/1000, Train Loss: 2.2625, Validation Loss: 2.3508\n",
      "Epoch 80/1000, Train Loss: 2.2039, Validation Loss: 2.3407\n",
      "Epoch 00091: reducing learning rate of group 0 to 1.0000e-04.\n"
     ]
    },
    {
     "name": "stderr",
     "output_type": "stream",
     "text": [
      " 94%|█████████▍| 47/50 [9:04:17<37:10, 743.46s/it]"
     ]
    },
    {
     "name": "stdout",
     "output_type": "stream",
     "text": [
      "Epoch 100/1000, Train Loss: 2.0706, Validation Loss: 2.3350\n",
      "Best validation loss : 2.318637557261813\n",
      "Average Error Rate: 4.10%\n",
      "Epoch 20/1000, Train Loss: 2.4680, Validation Loss: 2.4311\n",
      "Epoch 40/1000, Train Loss: 2.3429, Validation Loss: 2.3539\n",
      "Epoch 60/1000, Train Loss: 2.2819, Validation Loss: 2.3504\n",
      "Epoch 80/1000, Train Loss: 2.2053, Validation Loss: 2.3287\n",
      "Epoch 100/1000, Train Loss: 2.1432, Validation Loss: 2.3430\n",
      "Epoch 120/1000, Train Loss: 2.0990, Validation Loss: 2.3277\n",
      "Epoch 00125: reducing learning rate of group 0 to 1.0000e-04.\n",
      "Epoch 140/1000, Train Loss: 1.9599, Validation Loss: 2.3020\n",
      "Epoch 00155: reducing learning rate of group 0 to 1.0000e-05.\n",
      "Epoch 160/1000, Train Loss: 1.9328, Validation Loss: 2.3004\n"
     ]
    },
    {
     "name": "stderr",
     "output_type": "stream",
     "text": [
      " 96%|█████████▌| 48/50 [9:23:30<28:52, 866.32s/it]"
     ]
    },
    {
     "name": "stdout",
     "output_type": "stream",
     "text": [
      "Best validation loss : 2.2913665109503585\n",
      "Average Error Rate: 1.50%\n",
      "Epoch 20/1000, Train Loss: 2.4636, Validation Loss: 2.4339\n",
      "Epoch 40/1000, Train Loss: 2.3367, Validation Loss: 2.3631\n",
      "Epoch 60/1000, Train Loss: 2.2727, Validation Loss: 2.3510\n",
      "Epoch 80/1000, Train Loss: 2.1979, Validation Loss: 2.3530\n",
      "Epoch 00090: reducing learning rate of group 0 to 1.0000e-04.\n"
     ]
    },
    {
     "name": "stderr",
     "output_type": "stream",
     "text": [
      " 98%|█████████▊| 49/50 [9:34:52<13:30, 810.79s/it]"
     ]
    },
    {
     "name": "stdout",
     "output_type": "stream",
     "text": [
      "Best validation loss : 2.3359802518270714\n",
      "Average Error Rate: 1.78%\n",
      "Epoch 20/1000, Train Loss: 2.4663, Validation Loss: 2.4239\n",
      "Epoch 40/1000, Train Loss: 2.3492, Validation Loss: 2.3600\n",
      "Epoch 60/1000, Train Loss: 2.2897, Validation Loss: 2.3494\n",
      "Epoch 80/1000, Train Loss: 2.2090, Validation Loss: 2.3469\n",
      "Epoch 100/1000, Train Loss: 2.1432, Validation Loss: 2.3603\n",
      "Epoch 00111: reducing learning rate of group 0 to 1.0000e-04.\n"
     ]
    },
    {
     "name": "stderr",
     "output_type": "stream",
     "text": [
      "100%|██████████| 50/50 [9:49:38<00:00, 707.57s/it]"
     ]
    },
    {
     "name": "stdout",
     "output_type": "stream",
     "text": [
      "Epoch 120/1000, Train Loss: 2.0248, Validation Loss: 2.3626\n",
      "Best validation loss : 2.327204614086489\n",
      "Average Error Rate: 1.55%\n",
      "🔸END🔸\n"
     ]
    },
    {
     "name": "stderr",
     "output_type": "stream",
     "text": [
      "\n"
     ]
    }
   ],
   "source": [
    "best_losses = []\n",
    "mean_error_ratios = []\n",
    "\n",
    "### Set Parameters\n",
    "datanames = 'total_df'         # ['total_df','stock_df']\n",
    "MODEL = 'Transformer'          # 'LSTM' / 'GRU' / 'Transformer'\n",
    "TARGET = \"1d_ROC\"              # \"Close\" / \"1d_ROC\"\n",
    "SEQ_SIZE = 30                  # 30 / 60 / 120\n",
    "PRED_SIZE = 10\n",
    "BATCH_SIZE = 1                 # 1 / 4 / 8\n",
    "HIDDEN_SIZE = 64               # 64 / 128\n",
    "EPOCHS = 1000\n",
    "N_TRIALS = 50                  # 10 / 50 / 100\n",
    "\n",
    "if dataname=='total_df':\n",
    "    data = total_df\n",
    "else:\n",
    "    data = stock_df\n",
    "\n",
    "\n",
    "filename = f'{MODEL}_{dataname}_{TARGET}_seq{SEQ_SIZE}_batch{BATCH_SIZE}_hidden{HIDDEN_SIZE}_{N_TRIALS}trials'\n",
    "\n",
    "print(f'🔸START - {filename}🔸')\n",
    "### Make train datset\n",
    "\n",
    "def split_xy(dataset, time_steps, y_column):\n",
    "    x, y = list(), list()\n",
    "    for i in range(len(dataset)):\n",
    "        x_end_number = i + time_steps\n",
    "        y_end_number = x_end_number + y_column\n",
    "\n",
    "        if y_end_number > len(dataset):\n",
    "            break\n",
    "        tmp_x = dataset.iloc[i:x_end_number, :]  # Adjusted for Pandas\n",
    "        tmp_y = dataset.iloc[x_end_number:y_end_number, :].loc[:, TARGET]\n",
    "        x.append(tmp_x.values)  # Convert to numpy array\n",
    "        y.append(tmp_y.values)  # Convert to numpy array\n",
    "\n",
    "    return np.array(x), np.array(y)\n",
    "\n",
    "X, y = split_xy(data, SEQ_SIZE, PRED_SIZE)\n",
    "\n",
    "### Define X_test\n",
    "X_test = data.tail(SEQ_SIZE).values.reshape(1, SEQ_SIZE, data.shape[1])\n",
    "\n",
    "### Standardization\n",
    "from sklearn.preprocessing import StandardScaler\n",
    "\n",
    "X = X.reshape(X.shape[0], X.shape[1] * X.shape[2])\n",
    "scaler = StandardScaler()\n",
    "scaler.fit(X)\n",
    "X = scaler.transform(X)\n",
    "X = X.reshape(X.shape[0], SEQ_SIZE, data.shape[1])\n",
    "\n",
    "X_test = X_test.reshape(X_test.shape[0], X_test.shape[1] * X_test.shape[2])\n",
    "X_test = scaler.transform(X_test)\n",
    "X_test = X_test.reshape(X_test.shape[0], SEQ_SIZE, data.shape[1])\n",
    "\n",
    "### Split train-validation dataset\n",
    "# to DataLoader\n",
    "import torch\n",
    "from torch.utils.data import Dataset, DataLoader, TensorDataset\n",
    "from sklearn.model_selection import train_test_split\n",
    "\n",
    "for trial in tqdm(list(range(1,N_TRIALS+1))):\n",
    "    X_train, X_valid, y_train, y_valid = train_test_split(X, y, random_state = 1, test_size = 0.2)\n",
    "\n",
    "    # to tensor\n",
    "    X_train = torch.tensor(X_train.astype(np.float32), dtype = torch.float32)\n",
    "    X_valid = torch.tensor(X_valid.astype(np.float32), dtype = torch.float32)\n",
    "    y_train = torch.tensor(y_train.astype(np.float32), dtype = torch.float32)\n",
    "    y_valid = torch.tensor(y_valid.astype(np.float32), dtype = torch.float32)\n",
    "\n",
    "    # to DataLoader\n",
    "    train_loader = DataLoader(TensorDataset(X_train, y_train), batch_size = BATCH_SIZE, shuffle = True)\n",
    "    val_loader = DataLoader(TensorDataset(X_valid, y_valid), batch_size = BATCH_SIZE, shuffle = False)\n",
    "\n",
    "    ### Initialize Model\n",
    "    try:\n",
    "        for param in model.parameters():\n",
    "            if param.requires_grad:\n",
    "                if len(param.shape) > 1:\n",
    "                    init.xavier_uniform_(param)\n",
    "                else:\n",
    "                    init.zeros_(param)\n",
    "    except:\n",
    "        try:\n",
    "            model.reset_parameters()\n",
    "        except:\n",
    "            pass\n",
    "\n",
    "    ### Modeling\n",
    "    import copy\n",
    "    class EarlyStopping:\n",
    "        def __init__(self, patience = 5, min_delta = 0, restore_best_weights = True):\n",
    "            self.patience = patience\n",
    "            self.min_delta = min_delta\n",
    "            self.restore_best_weights = restore_best_weights\n",
    "            self.best_model = None\n",
    "            self.best_loss = None\n",
    "            self.counter = 0\n",
    "            self.status = \"\"\n",
    "\n",
    "        def __call__(self, model, val_loss):\n",
    "            if self.best_loss is None:\n",
    "                self.best_loss = val_loss\n",
    "                self.best_model = copy.deepcopy(model.state_dict())\n",
    "            elif self.best_loss - val_loss >= self.min_delta:\n",
    "                self.best_model = copy.deepcopy(model.state_dict())\n",
    "                self.best_loss = val_loss\n",
    "                self.counter = 0\n",
    "                self.status = f\"Improvement found, counter reset to {self.counter}\"\n",
    "            else:\n",
    "                self.counter += 1\n",
    "                self.status = f\"No improvement in the last {self.counter} epochs\"\n",
    "                if self.counter >= self.patience:\n",
    "                    self.status = f\"Early stopping triggered after {self.counter} epochs.\"\n",
    "                    if self.restore_best_weights:\n",
    "                        model.load_state_dict(self.best_model)\n",
    "                    return True\n",
    "            return False\n",
    "\n",
    "    # Positional Encoding for Transformer\n",
    "    class PositionalEncoding(nn.Module):\n",
    "        def __init__(self, d_model, dropout=0.1, max_len=2000):\n",
    "            super(PositionalEncoding, self).__init__()\n",
    "            self.dropout = nn.Dropout(p=dropout)\n",
    "\n",
    "            pe = torch.zeros(max_len, d_model)\n",
    "            position = torch.arange(0, max_len, dtype=torch.float).unsqueeze(1)\n",
    "            div_term = torch.exp(torch.arange(0, d_model, 2).float() * (-np.log(10000.0) / d_model))\n",
    "            pe[:, 0::2] = torch.sin(position * div_term)\n",
    "            pe[:, 1::2] = torch.cos(position * div_term)\n",
    "            pe = pe.unsqueeze(0).transpose(0, 1)\n",
    "            self.register_buffer('pe', pe)\n",
    "\n",
    "        def forward(self, x):\n",
    "            x = x + self.pe[:x.size(0), :]\n",
    "            return self.dropout(x)\n",
    "\n",
    "    # Model definition using Transformer\n",
    "    class TransformerModel(nn.Module):\n",
    "        def __init__(self, input_dim, d_model, nhead=4, num_layers=2, dropout=0.2, output_size=10):\n",
    "            super(TransformerModel, self).__init__()\n",
    "\n",
    "            self.encoder = nn.Linear(input_dim, d_model,bias=True)\n",
    "            self.pos_encoder = PositionalEncoding(d_model, dropout)\n",
    "            encoder_layers = nn.TransformerEncoderLayer(d_model, nhead,bias=True)\n",
    "            self.transformer_encoder = nn.TransformerEncoder(encoder_layers, num_layers)\n",
    "            self.decoder = nn.Linear(d_model, output_size,bias=True)\n",
    "\n",
    "        def forward(self, x):\n",
    "            x = self.encoder(x)\n",
    "            x = self.pos_encoder(x)\n",
    "            x = self.transformer_encoder(x)\n",
    "            x = self.decoder(x[:, -1, :])\n",
    "            return x\n",
    "\n",
    "    class RMSELoss(nn.Module):\n",
    "        def __init__(self):\n",
    "            super(RMSELoss,self).__init__()\n",
    "            self.mse = nn.MSELoss()\n",
    "\n",
    "        def forward(self,yhat,y):\n",
    "            return torch.sqrt(self.mse(yhat,y))\n",
    "\n",
    "    globals()[f'model{trial}'] = TransformerModel(X_train.shape[2],\n",
    "                                d_model = HIDDEN_SIZE,\n",
    "                                output_size = PRED_SIZE).to(device)criterion = RMSELoss()\n",
    "    optimizer = optim.Adam(globals()[f'model{trial}'].parameters(), lr = 0.001)\n",
    "    scheduler = ReduceLROnPlateau(optimizer, 'min', factor = 0.1, patience = 20, verbose = True)\n",
    "\n",
    "    ### RUN!!\n",
    "\n",
    "    epoch_counter = 0\n",
    "    patience = 30\n",
    "    best_loss = float('inf')\n",
    "    done = False\n",
    "    es = EarlyStopping(patience=patience)\n",
    "    tr_losses_fp, val_losses_fp = [],[]\n",
    "\n",
    "    while not done and epoch_counter<EPOCHS:\n",
    "        epoch_counter+=1\n",
    "\n",
    "        # train\n",
    "        globals()[f'model{trial}'].train()\n",
    "        train_losses = []\n",
    "        for batch in train_loader:\n",
    "            x_batch, y_batch = batch\n",
    "            x_batch = x_batch.to(device)\n",
    "            y_batch = y_batch.to(device)\n",
    "            optimizer.zero_grad()\n",
    "            output = globals()[f'model{trial}'](x_batch)\n",
    "            loss = criterion(output,y_batch)\n",
    "            loss.backward()\n",
    "            optimizer.step()\n",
    "            train_losses.append(loss.item())\n",
    "        train_loss = np.mean(train_losses)\n",
    "        tr_losses_fp.append(train_loss)\n",
    "\n",
    "        # validation\n",
    "        globals()[f'model{trial}'].eval()\n",
    "        val_losses = []\n",
    "        with torch.no_grad():\n",
    "            for batch in val_loader:\n",
    "                x_batch, y_batch = batch\n",
    "                x_batch = x_batch.to(device)\n",
    "                y_batch = y_batch.to(device)\n",
    "                output = globals()[f'model{trial}'](x_batch)\n",
    "                loss = criterion(output, y_batch)\n",
    "                val_losses.append(loss.item())\n",
    "        val_loss = np.mean(val_losses)\n",
    "        val_losses_fp.append(val_loss)\n",
    "        scheduler.step(val_loss)\n",
    "\n",
    "        if es(globals()[f'model{trial}'], val_loss):\n",
    "            done = True\n",
    "\n",
    "        if val_loss < best_loss:\n",
    "            best_loss = val_loss\n",
    "\n",
    "        if epoch_counter%20 == 0:\n",
    "            print(f\"Epoch {epoch_counter}/{EPOCHS}, Train Loss: {train_loss:.4f}, Validation Loss: {val_loss:.4f}\")\n",
    "\n",
    "    print(f\"Best validation loss : {best_loss}\")\n",
    "    best_losses.append(best_loss)\n",
    "\n",
    "    globals()[f'train_losses_{trial}']=tr_losses_fp\n",
    "    globals()[f'val_losses_{trial}']=val_losses_fp\n",
    "\n",
    "    ### Prediction\n",
    "    # evaluation\n",
    "    globals()[f'model{trial}'].eval()\n",
    "    with torch.no_grad():\n",
    "        X_test_tensor = torch.tensor(X_test.astype(np.float32), dtype = torch.float32,device=device)\n",
    "        pred = globals()[f'model{trial}'](X_test_tensor)\n",
    "\n",
    "    pred = pred.to('cpu').detach().numpy()\n",
    "\n",
    "    if TARGET == \"1d_ROC\" :\n",
    "        endPrice = data['Close'].iloc[-1]\n",
    "        pred_close = []\n",
    "\n",
    "        for i in pred[0] :\n",
    "            endPrice = endPrice + endPrice*0.01*i\n",
    "            pred_close.append(endPrice)\n",
    "\n",
    "        pred = np.array(pred_close).reshape(1, PRED_SIZE)\n",
    "    else :\n",
    "        pass\n",
    "\n",
    "    globals()[f'pred_{trial}'] = pred\n",
    "\n",
    "    ### Evaluation\n",
    "    # Label\n",
    "    label = test_df.copy()\n",
    "    label = np.array(label.head(PRED_SIZE)[\"Close Price\"])\n",
    "\n",
    "    # Prediction\n",
    "    pred = np.array(pred).reshape(PRED_SIZE)\n",
    "\n",
    "    # 날짜 데이터\n",
    "    period = test_df[\"Date\"].copy()\n",
    "    period = [d for d in period.head(PRED_SIZE)]\n",
    "\n",
    "    # 오차율 계산\n",
    "    error_rate = np.abs((label - pred) / label) * 100\n",
    "\n",
    "    # 평균 오차율 계산\n",
    "    average_error_rate = np.mean(error_rate)\n",
    "\n",
    "    print(f\"Average Error Rate: {average_error_rate:.2f}%\")\n",
    "    mean_error_ratios.append(average_error_rate)\n",
    "\n",
    "print('🔸END🔸')"
   ]
  },
  {
   "cell_type": "code",
   "execution_count": 6,
   "id": "79f62971",
   "metadata": {
    "execution": {
     "iopub.execute_input": "2024-02-23T21:43:36.759318Z",
     "iopub.status.busy": "2024-02-23T21:43:36.758151Z",
     "iopub.status.idle": "2024-02-23T21:43:36.766678Z",
     "shell.execute_reply": "2024-02-23T21:43:36.765230Z"
    },
    "papermill": {
     "duration": 0.058849,
     "end_time": "2024-02-23T21:43:36.769435",
     "exception": false,
     "start_time": "2024-02-23T21:43:36.710586",
     "status": "completed"
    },
    "tags": []
   },
   "outputs": [],
   "source": [
    "preds = []\n",
    "for t in list(range(1,51)):\n",
    "    preds.append(globals()[f'pred_{t}'].tolist())\n",
    "preds = np.reshape(np.array(preds),(10,50))"
   ]
  },
  {
   "cell_type": "code",
   "execution_count": 7,
   "id": "6ca9487e",
   "metadata": {
    "execution": {
     "iopub.execute_input": "2024-02-23T21:43:36.862425Z",
     "iopub.status.busy": "2024-02-23T21:43:36.862018Z",
     "iopub.status.idle": "2024-02-23T21:43:36.937386Z",
     "shell.execute_reply": "2024-02-23T21:43:36.935695Z"
    },
    "papermill": {
     "duration": 0.125176,
     "end_time": "2024-02-23T21:43:36.940446",
     "exception": false,
     "start_time": "2024-02-23T21:43:36.815270",
     "status": "completed"
    },
    "tags": []
   },
   "outputs": [
    {
     "data": {
      "text/html": [
       "<div>\n",
       "<style scoped>\n",
       "    .dataframe tbody tr th:only-of-type {\n",
       "        vertical-align: middle;\n",
       "    }\n",
       "\n",
       "    .dataframe tbody tr th {\n",
       "        vertical-align: top;\n",
       "    }\n",
       "\n",
       "    .dataframe thead th {\n",
       "        text-align: right;\n",
       "    }\n",
       "</style>\n",
       "<table border=\"1\" class=\"dataframe\">\n",
       "  <thead>\n",
       "    <tr style=\"text-align: right;\">\n",
       "      <th></th>\n",
       "      <th>model_1</th>\n",
       "      <th>model_2</th>\n",
       "      <th>model_3</th>\n",
       "      <th>model_4</th>\n",
       "      <th>model_5</th>\n",
       "      <th>model_6</th>\n",
       "      <th>model_7</th>\n",
       "      <th>model_8</th>\n",
       "      <th>model_9</th>\n",
       "      <th>model_10</th>\n",
       "      <th>model_11</th>\n",
       "      <th>model_12</th>\n",
       "      <th>model_13</th>\n",
       "      <th>model_14</th>\n",
       "      <th>model_15</th>\n",
       "      <th>model_16</th>\n",
       "      <th>model_17</th>\n",
       "      <th>model_18</th>\n",
       "      <th>model_19</th>\n",
       "      <th>model_20</th>\n",
       "      <th>model_21</th>\n",
       "      <th>model_22</th>\n",
       "      <th>model_23</th>\n",
       "      <th>model_24</th>\n",
       "      <th>model_25</th>\n",
       "      <th>model_26</th>\n",
       "      <th>model_27</th>\n",
       "      <th>model_28</th>\n",
       "      <th>model_29</th>\n",
       "      <th>model_30</th>\n",
       "      <th>model_31</th>\n",
       "      <th>model_32</th>\n",
       "      <th>model_33</th>\n",
       "      <th>model_34</th>\n",
       "      <th>model_35</th>\n",
       "      <th>model_36</th>\n",
       "      <th>model_37</th>\n",
       "      <th>model_38</th>\n",
       "      <th>model_39</th>\n",
       "      <th>model_40</th>\n",
       "      <th>model_41</th>\n",
       "      <th>model_42</th>\n",
       "      <th>model_43</th>\n",
       "      <th>model_44</th>\n",
       "      <th>model_45</th>\n",
       "      <th>model_46</th>\n",
       "      <th>model_47</th>\n",
       "      <th>model_48</th>\n",
       "      <th>model_49</th>\n",
       "      <th>model_50</th>\n",
       "      <th>Mean</th>\n",
       "    </tr>\n",
       "  </thead>\n",
       "  <tbody>\n",
       "    <tr>\n",
       "      <th>0</th>\n",
       "      <td>479.173139</td>\n",
       "      <td>473.797006</td>\n",
       "      <td>472.196852</td>\n",
       "      <td>473.339912</td>\n",
       "      <td>475.963781</td>\n",
       "      <td>472.282510</td>\n",
       "      <td>476.128457</td>\n",
       "      <td>488.215160</td>\n",
       "      <td>501.282670</td>\n",
       "      <td>511.658641</td>\n",
       "      <td>483.095887</td>\n",
       "      <td>479.134554</td>\n",
       "      <td>478.002159</td>\n",
       "      <td>480.017308</td>\n",
       "      <td>482.995581</td>\n",
       "      <td>484.810146</td>\n",
       "      <td>485.053052</td>\n",
       "      <td>484.089834</td>\n",
       "      <td>480.002159</td>\n",
       "      <td>474.498585</td>\n",
       "      <td>484.919902</td>\n",
       "      <td>484.423546</td>\n",
       "      <td>484.639633</td>\n",
       "      <td>485.689591</td>\n",
       "      <td>488.173123</td>\n",
       "      <td>489.328602</td>\n",
       "      <td>491.743408</td>\n",
       "      <td>496.432874</td>\n",
       "      <td>501.886333</td>\n",
       "      <td>507.039231</td>\n",
       "      <td>483.465059</td>\n",
       "      <td>482.905119</td>\n",
       "      <td>481.981056</td>\n",
       "      <td>484.320288</td>\n",
       "      <td>486.385097</td>\n",
       "      <td>486.655096</td>\n",
       "      <td>484.393918</td>\n",
       "      <td>480.474572</td>\n",
       "      <td>477.421773</td>\n",
       "      <td>474.879906</td>\n",
       "      <td>486.242909</td>\n",
       "      <td>487.328341</td>\n",
       "      <td>490.649918</td>\n",
       "      <td>491.922214</td>\n",
       "      <td>490.882555</td>\n",
       "      <td>489.734164</td>\n",
       "      <td>485.985509</td>\n",
       "      <td>480.154233</td>\n",
       "      <td>467.862817</td>\n",
       "      <td>454.098619</td>\n",
       "      <td>483.955136</td>\n",
       "    </tr>\n",
       "    <tr>\n",
       "      <th>1</th>\n",
       "      <td>487.727624</td>\n",
       "      <td>488.742070</td>\n",
       "      <td>487.909674</td>\n",
       "      <td>487.575037</td>\n",
       "      <td>485.985244</td>\n",
       "      <td>483.248223</td>\n",
       "      <td>478.806448</td>\n",
       "      <td>473.567650</td>\n",
       "      <td>471.105171</td>\n",
       "      <td>470.608373</td>\n",
       "      <td>480.185857</td>\n",
       "      <td>473.707241</td>\n",
       "      <td>469.726344</td>\n",
       "      <td>469.057247</td>\n",
       "      <td>470.570546</td>\n",
       "      <td>471.482718</td>\n",
       "      <td>471.246622</td>\n",
       "      <td>475.184321</td>\n",
       "      <td>479.344113</td>\n",
       "      <td>485.369185</td>\n",
       "      <td>485.903920</td>\n",
       "      <td>486.480745</td>\n",
       "      <td>486.524959</td>\n",
       "      <td>487.005081</td>\n",
       "      <td>488.620362</td>\n",
       "      <td>490.900116</td>\n",
       "      <td>492.010366</td>\n",
       "      <td>489.760283</td>\n",
       "      <td>486.595941</td>\n",
       "      <td>483.438745</td>\n",
       "      <td>485.092450</td>\n",
       "      <td>483.698326</td>\n",
       "      <td>481.528852</td>\n",
       "      <td>483.096949</td>\n",
       "      <td>485.347984</td>\n",
       "      <td>486.565182</td>\n",
       "      <td>484.425289</td>\n",
       "      <td>483.722270</td>\n",
       "      <td>487.079481</td>\n",
       "      <td>491.354289</td>\n",
       "      <td>489.547385</td>\n",
       "      <td>493.774143</td>\n",
       "      <td>498.497842</td>\n",
       "      <td>501.528799</td>\n",
       "      <td>503.127805</td>\n",
       "      <td>504.614153</td>\n",
       "      <td>507.514759</td>\n",
       "      <td>507.559801</td>\n",
       "      <td>504.918099</td>\n",
       "      <td>501.942818</td>\n",
       "      <td>486.066538</td>\n",
       "    </tr>\n",
       "    <tr>\n",
       "      <th>2</th>\n",
       "      <td>486.066028</td>\n",
       "      <td>486.523543</td>\n",
       "      <td>487.204076</td>\n",
       "      <td>487.771781</td>\n",
       "      <td>489.932250</td>\n",
       "      <td>493.061522</td>\n",
       "      <td>495.846759</td>\n",
       "      <td>499.115857</td>\n",
       "      <td>502.129856</td>\n",
       "      <td>505.103207</td>\n",
       "      <td>482.588013</td>\n",
       "      <td>479.472523</td>\n",
       "      <td>477.509429</td>\n",
       "      <td>478.010696</td>\n",
       "      <td>481.735196</td>\n",
       "      <td>485.493499</td>\n",
       "      <td>487.241316</td>\n",
       "      <td>490.060885</td>\n",
       "      <td>492.408241</td>\n",
       "      <td>493.720629</td>\n",
       "      <td>481.446332</td>\n",
       "      <td>477.741460</td>\n",
       "      <td>477.420362</td>\n",
       "      <td>481.005095</td>\n",
       "      <td>484.969707</td>\n",
       "      <td>483.327490</td>\n",
       "      <td>482.909998</td>\n",
       "      <td>488.176635</td>\n",
       "      <td>495.948855</td>\n",
       "      <td>503.515623</td>\n",
       "      <td>482.085488</td>\n",
       "      <td>478.743193</td>\n",
       "      <td>474.806658</td>\n",
       "      <td>476.699155</td>\n",
       "      <td>485.040758</td>\n",
       "      <td>492.716884</td>\n",
       "      <td>498.680716</td>\n",
       "      <td>499.487656</td>\n",
       "      <td>499.569299</td>\n",
       "      <td>499.271255</td>\n",
       "      <td>482.318879</td>\n",
       "      <td>479.399474</td>\n",
       "      <td>477.021685</td>\n",
       "      <td>473.913682</td>\n",
       "      <td>475.027433</td>\n",
       "      <td>480.047707</td>\n",
       "      <td>482.059394</td>\n",
       "      <td>482.195992</td>\n",
       "      <td>482.086329</td>\n",
       "      <td>480.531980</td>\n",
       "      <td>486.383210</td>\n",
       "    </tr>\n",
       "    <tr>\n",
       "      <th>3</th>\n",
       "      <td>483.221101</td>\n",
       "      <td>479.818368</td>\n",
       "      <td>477.636884</td>\n",
       "      <td>478.010409</td>\n",
       "      <td>480.802983</td>\n",
       "      <td>484.543730</td>\n",
       "      <td>487.777522</td>\n",
       "      <td>490.400841</td>\n",
       "      <td>491.912888</td>\n",
       "      <td>493.019219</td>\n",
       "      <td>482.357885</td>\n",
       "      <td>478.915112</td>\n",
       "      <td>474.871647</td>\n",
       "      <td>473.092648</td>\n",
       "      <td>474.635998</td>\n",
       "      <td>476.586631</td>\n",
       "      <td>479.145597</td>\n",
       "      <td>480.208298</td>\n",
       "      <td>481.042390</td>\n",
       "      <td>481.130689</td>\n",
       "      <td>486.521575</td>\n",
       "      <td>486.814605</td>\n",
       "      <td>486.416639</td>\n",
       "      <td>486.162732</td>\n",
       "      <td>486.564744</td>\n",
       "      <td>486.557331</td>\n",
       "      <td>482.106402</td>\n",
       "      <td>476.287482</td>\n",
       "      <td>472.638987</td>\n",
       "      <td>469.851757</td>\n",
       "      <td>488.108781</td>\n",
       "      <td>491.642793</td>\n",
       "      <td>494.860071</td>\n",
       "      <td>497.718953</td>\n",
       "      <td>497.321836</td>\n",
       "      <td>496.889922</td>\n",
       "      <td>497.345141</td>\n",
       "      <td>497.163597</td>\n",
       "      <td>495.480004</td>\n",
       "      <td>491.515469</td>\n",
       "      <td>481.537348</td>\n",
       "      <td>474.531542</td>\n",
       "      <td>470.774738</td>\n",
       "      <td>470.531656</td>\n",
       "      <td>473.914913</td>\n",
       "      <td>475.048135</td>\n",
       "      <td>473.842109</td>\n",
       "      <td>475.556818</td>\n",
       "      <td>477.310562</td>\n",
       "      <td>479.595741</td>\n",
       "      <td>482.994865</td>\n",
       "    </tr>\n",
       "    <tr>\n",
       "      <th>4</th>\n",
       "      <td>483.769017</td>\n",
       "      <td>479.027050</td>\n",
       "      <td>475.154980</td>\n",
       "      <td>472.031277</td>\n",
       "      <td>469.682483</td>\n",
       "      <td>468.097436</td>\n",
       "      <td>466.401006</td>\n",
       "      <td>468.156748</td>\n",
       "      <td>472.207371</td>\n",
       "      <td>476.802934</td>\n",
       "      <td>491.898363</td>\n",
       "      <td>497.267412</td>\n",
       "      <td>501.221998</td>\n",
       "      <td>504.195084</td>\n",
       "      <td>505.960834</td>\n",
       "      <td>507.390424</td>\n",
       "      <td>509.425198</td>\n",
       "      <td>509.920456</td>\n",
       "      <td>508.387359</td>\n",
       "      <td>506.224260</td>\n",
       "      <td>478.632916</td>\n",
       "      <td>470.032234</td>\n",
       "      <td>465.528637</td>\n",
       "      <td>465.541794</td>\n",
       "      <td>469.054925</td>\n",
       "      <td>470.779619</td>\n",
       "      <td>471.504361</td>\n",
       "      <td>474.432546</td>\n",
       "      <td>478.364403</td>\n",
       "      <td>480.690948</td>\n",
       "      <td>485.063216</td>\n",
       "      <td>484.318322</td>\n",
       "      <td>483.831447</td>\n",
       "      <td>485.313404</td>\n",
       "      <td>486.260469</td>\n",
       "      <td>485.852622</td>\n",
       "      <td>485.908547</td>\n",
       "      <td>488.868693</td>\n",
       "      <td>492.439222</td>\n",
       "      <td>496.142580</td>\n",
       "      <td>481.973963</td>\n",
       "      <td>476.729707</td>\n",
       "      <td>472.570418</td>\n",
       "      <td>474.748601</td>\n",
       "      <td>479.214446</td>\n",
       "      <td>479.613389</td>\n",
       "      <td>477.083470</td>\n",
       "      <td>476.535459</td>\n",
       "      <td>479.993386</td>\n",
       "      <td>483.564034</td>\n",
       "      <td>483.076189</td>\n",
       "    </tr>\n",
       "    <tr>\n",
       "      <th>5</th>\n",
       "      <td>488.140623</td>\n",
       "      <td>490.254894</td>\n",
       "      <td>491.306809</td>\n",
       "      <td>492.760577</td>\n",
       "      <td>494.019947</td>\n",
       "      <td>494.284261</td>\n",
       "      <td>492.481239</td>\n",
       "      <td>488.648489</td>\n",
       "      <td>484.718337</td>\n",
       "      <td>481.694872</td>\n",
       "      <td>486.251437</td>\n",
       "      <td>488.574712</td>\n",
       "      <td>489.946147</td>\n",
       "      <td>491.556083</td>\n",
       "      <td>492.613641</td>\n",
       "      <td>495.045051</td>\n",
       "      <td>498.187071</td>\n",
       "      <td>499.585549</td>\n",
       "      <td>499.648636</td>\n",
       "      <td>499.891852</td>\n",
       "      <td>486.649317</td>\n",
       "      <td>489.891967</td>\n",
       "      <td>490.945423</td>\n",
       "      <td>493.372536</td>\n",
       "      <td>494.837599</td>\n",
       "      <td>496.371693</td>\n",
       "      <td>498.984686</td>\n",
       "      <td>500.196047</td>\n",
       "      <td>499.820264</td>\n",
       "      <td>499.043516</td>\n",
       "      <td>475.902486</td>\n",
       "      <td>468.944249</td>\n",
       "      <td>467.594496</td>\n",
       "      <td>469.059039</td>\n",
       "      <td>469.459579</td>\n",
       "      <td>470.543623</td>\n",
       "      <td>472.683756</td>\n",
       "      <td>478.728531</td>\n",
       "      <td>483.781908</td>\n",
       "      <td>487.252871</td>\n",
       "      <td>479.537636</td>\n",
       "      <td>477.074409</td>\n",
       "      <td>478.713681</td>\n",
       "      <td>484.832010</td>\n",
       "      <td>487.853214</td>\n",
       "      <td>489.017174</td>\n",
       "      <td>489.231478</td>\n",
       "      <td>489.520303</td>\n",
       "      <td>483.113871</td>\n",
       "      <td>470.968770</td>\n",
       "      <td>487.270727</td>\n",
       "    </tr>\n",
       "    <tr>\n",
       "      <th>6</th>\n",
       "      <td>482.058557</td>\n",
       "      <td>480.456645</td>\n",
       "      <td>480.474741</td>\n",
       "      <td>480.549895</td>\n",
       "      <td>483.464617</td>\n",
       "      <td>487.177785</td>\n",
       "      <td>491.022521</td>\n",
       "      <td>496.985156</td>\n",
       "      <td>498.960061</td>\n",
       "      <td>500.294075</td>\n",
       "      <td>489.618883</td>\n",
       "      <td>492.025649</td>\n",
       "      <td>494.229865</td>\n",
       "      <td>495.601129</td>\n",
       "      <td>496.972791</td>\n",
       "      <td>498.217414</td>\n",
       "      <td>498.254618</td>\n",
       "      <td>493.685485</td>\n",
       "      <td>488.094609</td>\n",
       "      <td>482.819341</td>\n",
       "      <td>487.426181</td>\n",
       "      <td>488.366672</td>\n",
       "      <td>487.118208</td>\n",
       "      <td>479.907870</td>\n",
       "      <td>467.322295</td>\n",
       "      <td>463.711700</td>\n",
       "      <td>460.979079</td>\n",
       "      <td>461.647513</td>\n",
       "      <td>464.142689</td>\n",
       "      <td>467.109570</td>\n",
       "      <td>485.740009</td>\n",
       "      <td>486.540287</td>\n",
       "      <td>486.263380</td>\n",
       "      <td>485.623053</td>\n",
       "      <td>486.522231</td>\n",
       "      <td>489.511705</td>\n",
       "      <td>496.274626</td>\n",
       "      <td>504.445616</td>\n",
       "      <td>510.622087</td>\n",
       "      <td>515.135625</td>\n",
       "      <td>484.334506</td>\n",
       "      <td>481.744238</td>\n",
       "      <td>480.730975</td>\n",
       "      <td>480.724468</td>\n",
       "      <td>482.502694</td>\n",
       "      <td>482.906003</td>\n",
       "      <td>486.047144</td>\n",
       "      <td>492.992162</td>\n",
       "      <td>499.815832</td>\n",
       "      <td>505.958886</td>\n",
       "      <td>487.262623</td>\n",
       "    </tr>\n",
       "    <tr>\n",
       "      <th>7</th>\n",
       "      <td>481.071317</td>\n",
       "      <td>477.868952</td>\n",
       "      <td>476.432341</td>\n",
       "      <td>476.454597</td>\n",
       "      <td>481.265024</td>\n",
       "      <td>487.808707</td>\n",
       "      <td>493.847297</td>\n",
       "      <td>498.684671</td>\n",
       "      <td>500.201285</td>\n",
       "      <td>500.882591</td>\n",
       "      <td>483.718956</td>\n",
       "      <td>482.878083</td>\n",
       "      <td>483.321418</td>\n",
       "      <td>484.256709</td>\n",
       "      <td>488.126496</td>\n",
       "      <td>493.913873</td>\n",
       "      <td>499.755117</td>\n",
       "      <td>505.317361</td>\n",
       "      <td>511.853746</td>\n",
       "      <td>515.583117</td>\n",
       "      <td>476.791078</td>\n",
       "      <td>468.372826</td>\n",
       "      <td>464.533471</td>\n",
       "      <td>463.269983</td>\n",
       "      <td>465.217342</td>\n",
       "      <td>468.565467</td>\n",
       "      <td>474.629228</td>\n",
       "      <td>481.512268</td>\n",
       "      <td>485.198765</td>\n",
       "      <td>485.948312</td>\n",
       "      <td>477.454745</td>\n",
       "      <td>469.931337</td>\n",
       "      <td>466.475864</td>\n",
       "      <td>468.098072</td>\n",
       "      <td>472.016150</td>\n",
       "      <td>476.016803</td>\n",
       "      <td>476.914389</td>\n",
       "      <td>480.569382</td>\n",
       "      <td>486.299605</td>\n",
       "      <td>493.416406</td>\n",
       "      <td>484.489454</td>\n",
       "      <td>483.923588</td>\n",
       "      <td>482.838174</td>\n",
       "      <td>484.705262</td>\n",
       "      <td>486.486482</td>\n",
       "      <td>487.037510</td>\n",
       "      <td>487.448214</td>\n",
       "      <td>490.212462</td>\n",
       "      <td>493.401750</td>\n",
       "      <td>496.200139</td>\n",
       "      <td>484.024324</td>\n",
       "    </tr>\n",
       "    <tr>\n",
       "      <th>8</th>\n",
       "      <td>488.656001</td>\n",
       "      <td>489.288056</td>\n",
       "      <td>488.159083</td>\n",
       "      <td>486.322102</td>\n",
       "      <td>487.300582</td>\n",
       "      <td>485.595162</td>\n",
       "      <td>476.371641</td>\n",
       "      <td>471.477660</td>\n",
       "      <td>468.494670</td>\n",
       "      <td>469.452806</td>\n",
       "      <td>484.242492</td>\n",
       "      <td>482.848961</td>\n",
       "      <td>482.350839</td>\n",
       "      <td>482.951764</td>\n",
       "      <td>484.872606</td>\n",
       "      <td>487.074358</td>\n",
       "      <td>491.089044</td>\n",
       "      <td>496.660517</td>\n",
       "      <td>501.355283</td>\n",
       "      <td>504.464189</td>\n",
       "      <td>487.591083</td>\n",
       "      <td>490.662259</td>\n",
       "      <td>492.009208</td>\n",
       "      <td>492.142819</td>\n",
       "      <td>492.297693</td>\n",
       "      <td>494.492936</td>\n",
       "      <td>497.113660</td>\n",
       "      <td>496.570563</td>\n",
       "      <td>493.823024</td>\n",
       "      <td>490.434110</td>\n",
       "      <td>486.564833</td>\n",
       "      <td>486.032411</td>\n",
       "      <td>482.490383</td>\n",
       "      <td>480.271784</td>\n",
       "      <td>477.129815</td>\n",
       "      <td>475.181369</td>\n",
       "      <td>474.230807</td>\n",
       "      <td>473.607305</td>\n",
       "      <td>474.076774</td>\n",
       "      <td>474.140956</td>\n",
       "      <td>491.063007</td>\n",
       "      <td>494.497685</td>\n",
       "      <td>497.573574</td>\n",
       "      <td>500.656524</td>\n",
       "      <td>502.583536</td>\n",
       "      <td>504.556904</td>\n",
       "      <td>506.438693</td>\n",
       "      <td>508.868466</td>\n",
       "      <td>510.772340</td>\n",
       "      <td>512.240648</td>\n",
       "      <td>488.982860</td>\n",
       "    </tr>\n",
       "    <tr>\n",
       "      <th>9</th>\n",
       "      <td>483.520896</td>\n",
       "      <td>482.448683</td>\n",
       "      <td>483.688010</td>\n",
       "      <td>485.066500</td>\n",
       "      <td>484.938829</td>\n",
       "      <td>487.452531</td>\n",
       "      <td>492.338442</td>\n",
       "      <td>497.711876</td>\n",
       "      <td>500.955177</td>\n",
       "      <td>502.922006</td>\n",
       "      <td>488.455237</td>\n",
       "      <td>491.705967</td>\n",
       "      <td>493.394306</td>\n",
       "      <td>494.806079</td>\n",
       "      <td>496.786414</td>\n",
       "      <td>498.603610</td>\n",
       "      <td>502.235661</td>\n",
       "      <td>505.416147</td>\n",
       "      <td>509.682181</td>\n",
       "      <td>513.705763</td>\n",
       "      <td>483.730461</td>\n",
       "      <td>481.063440</td>\n",
       "      <td>480.619463</td>\n",
       "      <td>483.182112</td>\n",
       "      <td>485.451338</td>\n",
       "      <td>484.538858</td>\n",
       "      <td>482.118859</td>\n",
       "      <td>485.405536</td>\n",
       "      <td>489.787721</td>\n",
       "      <td>495.738644</td>\n",
       "      <td>482.731645</td>\n",
       "      <td>480.445554</td>\n",
       "      <td>480.109272</td>\n",
       "      <td>482.744656</td>\n",
       "      <td>486.219573</td>\n",
       "      <td>490.559461</td>\n",
       "      <td>492.665068</td>\n",
       "      <td>494.540074</td>\n",
       "      <td>496.054406</td>\n",
       "      <td>497.280834</td>\n",
       "      <td>480.818908</td>\n",
       "      <td>478.405059</td>\n",
       "      <td>480.264548</td>\n",
       "      <td>485.662451</td>\n",
       "      <td>489.476158</td>\n",
       "      <td>490.382923</td>\n",
       "      <td>488.493164</td>\n",
       "      <td>489.844495</td>\n",
       "      <td>491.038145</td>\n",
       "      <td>491.123231</td>\n",
       "      <td>489.926607</td>\n",
       "    </tr>\n",
       "  </tbody>\n",
       "</table>\n",
       "</div>"
      ],
      "text/plain": [
       "      model_1     model_2     model_3     model_4     model_5     model_6  \\\n",
       "0  479.173139  473.797006  472.196852  473.339912  475.963781  472.282510   \n",
       "1  487.727624  488.742070  487.909674  487.575037  485.985244  483.248223   \n",
       "2  486.066028  486.523543  487.204076  487.771781  489.932250  493.061522   \n",
       "3  483.221101  479.818368  477.636884  478.010409  480.802983  484.543730   \n",
       "4  483.769017  479.027050  475.154980  472.031277  469.682483  468.097436   \n",
       "5  488.140623  490.254894  491.306809  492.760577  494.019947  494.284261   \n",
       "6  482.058557  480.456645  480.474741  480.549895  483.464617  487.177785   \n",
       "7  481.071317  477.868952  476.432341  476.454597  481.265024  487.808707   \n",
       "8  488.656001  489.288056  488.159083  486.322102  487.300582  485.595162   \n",
       "9  483.520896  482.448683  483.688010  485.066500  484.938829  487.452531   \n",
       "\n",
       "      model_7     model_8     model_9    model_10    model_11    model_12  \\\n",
       "0  476.128457  488.215160  501.282670  511.658641  483.095887  479.134554   \n",
       "1  478.806448  473.567650  471.105171  470.608373  480.185857  473.707241   \n",
       "2  495.846759  499.115857  502.129856  505.103207  482.588013  479.472523   \n",
       "3  487.777522  490.400841  491.912888  493.019219  482.357885  478.915112   \n",
       "4  466.401006  468.156748  472.207371  476.802934  491.898363  497.267412   \n",
       "5  492.481239  488.648489  484.718337  481.694872  486.251437  488.574712   \n",
       "6  491.022521  496.985156  498.960061  500.294075  489.618883  492.025649   \n",
       "7  493.847297  498.684671  500.201285  500.882591  483.718956  482.878083   \n",
       "8  476.371641  471.477660  468.494670  469.452806  484.242492  482.848961   \n",
       "9  492.338442  497.711876  500.955177  502.922006  488.455237  491.705967   \n",
       "\n",
       "     model_13    model_14    model_15    model_16    model_17    model_18  \\\n",
       "0  478.002159  480.017308  482.995581  484.810146  485.053052  484.089834   \n",
       "1  469.726344  469.057247  470.570546  471.482718  471.246622  475.184321   \n",
       "2  477.509429  478.010696  481.735196  485.493499  487.241316  490.060885   \n",
       "3  474.871647  473.092648  474.635998  476.586631  479.145597  480.208298   \n",
       "4  501.221998  504.195084  505.960834  507.390424  509.425198  509.920456   \n",
       "5  489.946147  491.556083  492.613641  495.045051  498.187071  499.585549   \n",
       "6  494.229865  495.601129  496.972791  498.217414  498.254618  493.685485   \n",
       "7  483.321418  484.256709  488.126496  493.913873  499.755117  505.317361   \n",
       "8  482.350839  482.951764  484.872606  487.074358  491.089044  496.660517   \n",
       "9  493.394306  494.806079  496.786414  498.603610  502.235661  505.416147   \n",
       "\n",
       "     model_19    model_20    model_21    model_22    model_23    model_24  \\\n",
       "0  480.002159  474.498585  484.919902  484.423546  484.639633  485.689591   \n",
       "1  479.344113  485.369185  485.903920  486.480745  486.524959  487.005081   \n",
       "2  492.408241  493.720629  481.446332  477.741460  477.420362  481.005095   \n",
       "3  481.042390  481.130689  486.521575  486.814605  486.416639  486.162732   \n",
       "4  508.387359  506.224260  478.632916  470.032234  465.528637  465.541794   \n",
       "5  499.648636  499.891852  486.649317  489.891967  490.945423  493.372536   \n",
       "6  488.094609  482.819341  487.426181  488.366672  487.118208  479.907870   \n",
       "7  511.853746  515.583117  476.791078  468.372826  464.533471  463.269983   \n",
       "8  501.355283  504.464189  487.591083  490.662259  492.009208  492.142819   \n",
       "9  509.682181  513.705763  483.730461  481.063440  480.619463  483.182112   \n",
       "\n",
       "     model_25    model_26    model_27    model_28    model_29    model_30  \\\n",
       "0  488.173123  489.328602  491.743408  496.432874  501.886333  507.039231   \n",
       "1  488.620362  490.900116  492.010366  489.760283  486.595941  483.438745   \n",
       "2  484.969707  483.327490  482.909998  488.176635  495.948855  503.515623   \n",
       "3  486.564744  486.557331  482.106402  476.287482  472.638987  469.851757   \n",
       "4  469.054925  470.779619  471.504361  474.432546  478.364403  480.690948   \n",
       "5  494.837599  496.371693  498.984686  500.196047  499.820264  499.043516   \n",
       "6  467.322295  463.711700  460.979079  461.647513  464.142689  467.109570   \n",
       "7  465.217342  468.565467  474.629228  481.512268  485.198765  485.948312   \n",
       "8  492.297693  494.492936  497.113660  496.570563  493.823024  490.434110   \n",
       "9  485.451338  484.538858  482.118859  485.405536  489.787721  495.738644   \n",
       "\n",
       "     model_31    model_32    model_33    model_34    model_35    model_36  \\\n",
       "0  483.465059  482.905119  481.981056  484.320288  486.385097  486.655096   \n",
       "1  485.092450  483.698326  481.528852  483.096949  485.347984  486.565182   \n",
       "2  482.085488  478.743193  474.806658  476.699155  485.040758  492.716884   \n",
       "3  488.108781  491.642793  494.860071  497.718953  497.321836  496.889922   \n",
       "4  485.063216  484.318322  483.831447  485.313404  486.260469  485.852622   \n",
       "5  475.902486  468.944249  467.594496  469.059039  469.459579  470.543623   \n",
       "6  485.740009  486.540287  486.263380  485.623053  486.522231  489.511705   \n",
       "7  477.454745  469.931337  466.475864  468.098072  472.016150  476.016803   \n",
       "8  486.564833  486.032411  482.490383  480.271784  477.129815  475.181369   \n",
       "9  482.731645  480.445554  480.109272  482.744656  486.219573  490.559461   \n",
       "\n",
       "     model_37    model_38    model_39    model_40    model_41    model_42  \\\n",
       "0  484.393918  480.474572  477.421773  474.879906  486.242909  487.328341   \n",
       "1  484.425289  483.722270  487.079481  491.354289  489.547385  493.774143   \n",
       "2  498.680716  499.487656  499.569299  499.271255  482.318879  479.399474   \n",
       "3  497.345141  497.163597  495.480004  491.515469  481.537348  474.531542   \n",
       "4  485.908547  488.868693  492.439222  496.142580  481.973963  476.729707   \n",
       "5  472.683756  478.728531  483.781908  487.252871  479.537636  477.074409   \n",
       "6  496.274626  504.445616  510.622087  515.135625  484.334506  481.744238   \n",
       "7  476.914389  480.569382  486.299605  493.416406  484.489454  483.923588   \n",
       "8  474.230807  473.607305  474.076774  474.140956  491.063007  494.497685   \n",
       "9  492.665068  494.540074  496.054406  497.280834  480.818908  478.405059   \n",
       "\n",
       "     model_43    model_44    model_45    model_46    model_47    model_48  \\\n",
       "0  490.649918  491.922214  490.882555  489.734164  485.985509  480.154233   \n",
       "1  498.497842  501.528799  503.127805  504.614153  507.514759  507.559801   \n",
       "2  477.021685  473.913682  475.027433  480.047707  482.059394  482.195992   \n",
       "3  470.774738  470.531656  473.914913  475.048135  473.842109  475.556818   \n",
       "4  472.570418  474.748601  479.214446  479.613389  477.083470  476.535459   \n",
       "5  478.713681  484.832010  487.853214  489.017174  489.231478  489.520303   \n",
       "6  480.730975  480.724468  482.502694  482.906003  486.047144  492.992162   \n",
       "7  482.838174  484.705262  486.486482  487.037510  487.448214  490.212462   \n",
       "8  497.573574  500.656524  502.583536  504.556904  506.438693  508.868466   \n",
       "9  480.264548  485.662451  489.476158  490.382923  488.493164  489.844495   \n",
       "\n",
       "     model_49    model_50        Mean  \n",
       "0  467.862817  454.098619  483.955136  \n",
       "1  504.918099  501.942818  486.066538  \n",
       "2  482.086329  480.531980  486.383210  \n",
       "3  477.310562  479.595741  482.994865  \n",
       "4  479.993386  483.564034  483.076189  \n",
       "5  483.113871  470.968770  487.270727  \n",
       "6  499.815832  505.958886  487.262623  \n",
       "7  493.401750  496.200139  484.024324  \n",
       "8  510.772340  512.240648  488.982860  \n",
       "9  491.038145  491.123231  489.926607  "
      ]
     },
     "execution_count": 7,
     "metadata": {},
     "output_type": "execute_result"
    }
   ],
   "source": [
    "preds_df = pd.DataFrame(preds)\n",
    "# columns are each models and rows are each dates(2024.01.02~2024.01.16)\n",
    "preds_df['Mean']=preds_df.mean(axis=1)\n",
    "\n",
    "### When local environment\n",
    "preds_df.to_csv(f'../../data/predicts/preds_df_{filename}.csv')\n",
    "\n",
    "### When Kaggle Notebook\n",
    "# preds_df.to_csv('/kaggle/working/preds_df.csv')\n",
    "\n",
    "preds_df"
   ]
  },
  {
   "cell_type": "code",
   "execution_count": 8,
   "id": "f289587c",
   "metadata": {
    "execution": {
     "iopub.execute_input": "2024-02-23T21:43:37.035356Z",
     "iopub.status.busy": "2024-02-23T21:43:37.034944Z",
     "iopub.status.idle": "2024-02-23T21:43:37.088409Z",
     "shell.execute_reply": "2024-02-23T21:43:37.086822Z"
    },
    "papermill": {
     "duration": 0.104873,
     "end_time": "2024-02-23T21:43:37.091260",
     "exception": false,
     "start_time": "2024-02-23T21:43:36.986387",
     "status": "completed"
    },
    "tags": []
   },
   "outputs": [
    {
     "name": "stdout",
     "output_type": "stream",
     "text": [
      "Mean Val_Loss : 2.310361622804034\n",
      "Mean Error Ratio : 2.301595509350774\n"
     ]
    },
    {
     "data": {
      "text/html": [
       "<div>\n",
       "<style scoped>\n",
       "    .dataframe tbody tr th:only-of-type {\n",
       "        vertical-align: middle;\n",
       "    }\n",
       "\n",
       "    .dataframe tbody tr th {\n",
       "        vertical-align: top;\n",
       "    }\n",
       "\n",
       "    .dataframe thead th {\n",
       "        text-align: right;\n",
       "    }\n",
       "</style>\n",
       "<table border=\"1\" class=\"dataframe\">\n",
       "  <thead>\n",
       "    <tr style=\"text-align: right;\">\n",
       "      <th></th>\n",
       "      <th>model_1</th>\n",
       "      <th>model_2</th>\n",
       "      <th>model_3</th>\n",
       "      <th>model_4</th>\n",
       "      <th>model_5</th>\n",
       "      <th>model_6</th>\n",
       "      <th>model_7</th>\n",
       "      <th>model_8</th>\n",
       "      <th>model_9</th>\n",
       "      <th>model_10</th>\n",
       "      <th>model_11</th>\n",
       "      <th>model_12</th>\n",
       "      <th>model_13</th>\n",
       "      <th>model_14</th>\n",
       "      <th>model_15</th>\n",
       "      <th>model_16</th>\n",
       "      <th>model_17</th>\n",
       "      <th>model_18</th>\n",
       "      <th>model_19</th>\n",
       "      <th>model_20</th>\n",
       "      <th>model_21</th>\n",
       "      <th>model_22</th>\n",
       "      <th>model_23</th>\n",
       "      <th>model_24</th>\n",
       "      <th>model_25</th>\n",
       "      <th>model_26</th>\n",
       "      <th>model_27</th>\n",
       "      <th>model_28</th>\n",
       "      <th>model_29</th>\n",
       "      <th>model_30</th>\n",
       "      <th>model_31</th>\n",
       "      <th>model_32</th>\n",
       "      <th>model_33</th>\n",
       "      <th>model_34</th>\n",
       "      <th>model_35</th>\n",
       "      <th>model_36</th>\n",
       "      <th>model_37</th>\n",
       "      <th>model_38</th>\n",
       "      <th>model_39</th>\n",
       "      <th>model_40</th>\n",
       "      <th>model_41</th>\n",
       "      <th>model_42</th>\n",
       "      <th>model_43</th>\n",
       "      <th>model_44</th>\n",
       "      <th>model_45</th>\n",
       "      <th>model_46</th>\n",
       "      <th>model_47</th>\n",
       "      <th>model_48</th>\n",
       "      <th>model_49</th>\n",
       "      <th>model_50</th>\n",
       "    </tr>\n",
       "  </thead>\n",
       "  <tbody>\n",
       "    <tr>\n",
       "      <th>0</th>\n",
       "      <td>2.301059</td>\n",
       "      <td>2.294900</td>\n",
       "      <td>2.308131</td>\n",
       "      <td>2.277396</td>\n",
       "      <td>2.320744</td>\n",
       "      <td>2.324164</td>\n",
       "      <td>2.296550</td>\n",
       "      <td>2.317529</td>\n",
       "      <td>2.303288</td>\n",
       "      <td>2.291465</td>\n",
       "      <td>2.341650</td>\n",
       "      <td>2.304629</td>\n",
       "      <td>2.314123</td>\n",
       "      <td>2.293303</td>\n",
       "      <td>2.287703</td>\n",
       "      <td>2.324880</td>\n",
       "      <td>2.330523</td>\n",
       "      <td>2.348037</td>\n",
       "      <td>2.273348</td>\n",
       "      <td>2.326578</td>\n",
       "      <td>2.321402</td>\n",
       "      <td>2.313291</td>\n",
       "      <td>2.326702</td>\n",
       "      <td>2.321976</td>\n",
       "      <td>2.313434</td>\n",
       "      <td>2.347800</td>\n",
       "      <td>2.304122</td>\n",
       "      <td>2.324451</td>\n",
       "      <td>2.266063</td>\n",
       "      <td>2.310501</td>\n",
       "      <td>2.308296</td>\n",
       "      <td>2.326345</td>\n",
       "      <td>2.307635</td>\n",
       "      <td>2.301270</td>\n",
       "      <td>2.332941</td>\n",
       "      <td>2.314810</td>\n",
       "      <td>2.303737</td>\n",
       "      <td>2.290916</td>\n",
       "      <td>2.297737</td>\n",
       "      <td>2.309624</td>\n",
       "      <td>2.258739</td>\n",
       "      <td>2.309473</td>\n",
       "      <td>2.307864</td>\n",
       "      <td>2.307679</td>\n",
       "      <td>2.342073</td>\n",
       "      <td>2.296015</td>\n",
       "      <td>2.318638</td>\n",
       "      <td>2.291367</td>\n",
       "      <td>2.335980</td>\n",
       "      <td>2.327205</td>\n",
       "    </tr>\n",
       "    <tr>\n",
       "      <th>1</th>\n",
       "      <td>1.705718</td>\n",
       "      <td>1.487535</td>\n",
       "      <td>2.421499</td>\n",
       "      <td>1.878625</td>\n",
       "      <td>3.197392</td>\n",
       "      <td>2.448986</td>\n",
       "      <td>1.891142</td>\n",
       "      <td>1.990925</td>\n",
       "      <td>1.688105</td>\n",
       "      <td>4.482044</td>\n",
       "      <td>2.807277</td>\n",
       "      <td>1.273047</td>\n",
       "      <td>1.384746</td>\n",
       "      <td>1.847705</td>\n",
       "      <td>1.291739</td>\n",
       "      <td>1.285818</td>\n",
       "      <td>1.322394</td>\n",
       "      <td>2.399890</td>\n",
       "      <td>3.136825</td>\n",
       "      <td>1.669274</td>\n",
       "      <td>2.408090</td>\n",
       "      <td>5.083496</td>\n",
       "      <td>1.953353</td>\n",
       "      <td>1.728361</td>\n",
       "      <td>1.295613</td>\n",
       "      <td>2.556939</td>\n",
       "      <td>2.988639</td>\n",
       "      <td>3.172819</td>\n",
       "      <td>1.688572</td>\n",
       "      <td>1.575012</td>\n",
       "      <td>1.799294</td>\n",
       "      <td>2.922384</td>\n",
       "      <td>3.767864</td>\n",
       "      <td>3.089835</td>\n",
       "      <td>1.765522</td>\n",
       "      <td>1.741112</td>\n",
       "      <td>3.127206</td>\n",
       "      <td>1.881668</td>\n",
       "      <td>1.529388</td>\n",
       "      <td>1.728846</td>\n",
       "      <td>2.685533</td>\n",
       "      <td>2.085914</td>\n",
       "      <td>2.700909</td>\n",
       "      <td>2.301933</td>\n",
       "      <td>4.816525</td>\n",
       "      <td>2.148562</td>\n",
       "      <td>4.097319</td>\n",
       "      <td>1.499403</td>\n",
       "      <td>1.777433</td>\n",
       "      <td>1.551543</td>\n",
       "    </tr>\n",
       "  </tbody>\n",
       "</table>\n",
       "</div>"
      ],
      "text/plain": [
       "    model_1   model_2   model_3   model_4   model_5   model_6   model_7  \\\n",
       "0  2.301059  2.294900  2.308131  2.277396  2.320744  2.324164  2.296550   \n",
       "1  1.705718  1.487535  2.421499  1.878625  3.197392  2.448986  1.891142   \n",
       "\n",
       "    model_8   model_9  model_10  model_11  model_12  model_13  model_14  \\\n",
       "0  2.317529  2.303288  2.291465  2.341650  2.304629  2.314123  2.293303   \n",
       "1  1.990925  1.688105  4.482044  2.807277  1.273047  1.384746  1.847705   \n",
       "\n",
       "   model_15  model_16  model_17  model_18  model_19  model_20  model_21  \\\n",
       "0  2.287703  2.324880  2.330523  2.348037  2.273348  2.326578  2.321402   \n",
       "1  1.291739  1.285818  1.322394  2.399890  3.136825  1.669274  2.408090   \n",
       "\n",
       "   model_22  model_23  model_24  model_25  model_26  model_27  model_28  \\\n",
       "0  2.313291  2.326702  2.321976  2.313434  2.347800  2.304122  2.324451   \n",
       "1  5.083496  1.953353  1.728361  1.295613  2.556939  2.988639  3.172819   \n",
       "\n",
       "   model_29  model_30  model_31  model_32  model_33  model_34  model_35  \\\n",
       "0  2.266063  2.310501  2.308296  2.326345  2.307635  2.301270  2.332941   \n",
       "1  1.688572  1.575012  1.799294  2.922384  3.767864  3.089835  1.765522   \n",
       "\n",
       "   model_36  model_37  model_38  model_39  model_40  model_41  model_42  \\\n",
       "0  2.314810  2.303737  2.290916  2.297737  2.309624  2.258739  2.309473   \n",
       "1  1.741112  3.127206  1.881668  1.529388  1.728846  2.685533  2.085914   \n",
       "\n",
       "   model_43  model_44  model_45  model_46  model_47  model_48  model_49  \\\n",
       "0  2.307864  2.307679  2.342073  2.296015  2.318638  2.291367  2.335980   \n",
       "1  2.700909  2.301933  4.816525  2.148562  4.097319  1.499403  1.777433   \n",
       "\n",
       "   model_50  \n",
       "0  2.327205  \n",
       "1  1.551543  "
      ]
     },
     "execution_count": 8,
     "metadata": {},
     "output_type": "execute_result"
    }
   ],
   "source": [
    "results_df = pd.DataFrame([best_losses,mean_error_ratios])\n",
    "print('Mean Val_Loss :',results_df.iloc[0].mean())\n",
    "print('Mean Error Ratio :',results_df.iloc[1].mean())\n",
    "results_df"
   ]
  },
  {
   "cell_type": "markdown",
   "id": "eb4509a6",
   "metadata": {},
   "source": [
    "# Plot\n",
    "- 예측 시작일(24.1.2) 전에 실제값을 얼만큼 그래프에 표시할 것인지에 따라 d5, d10, d30으로 선택하여 plt.plot() 내의 변수를 바꿔주면 된다."
   ]
  },
  {
   "cell_type": "code",
   "execution_count": 9,
   "id": "ade1cee0",
   "metadata": {
    "execution": {
     "iopub.execute_input": "2024-02-23T21:43:37.187188Z",
     "iopub.status.busy": "2024-02-23T21:43:37.186773Z",
     "iopub.status.idle": "2024-02-23T21:43:37.972727Z",
     "shell.execute_reply": "2024-02-23T21:43:37.971812Z"
    },
    "papermill": {
     "duration": 0.84063,
     "end_time": "2024-02-23T21:43:37.978492",
     "exception": false,
     "start_time": "2024-02-23T21:43:37.137862",
     "status": "completed"
    },
    "tags": []
   },
   "outputs": [
    {
     "data": {
      "image/png": "[encoded data removed]",
      "text/plain": [
       "<Figure size 1200x600 with 1 Axes>"
      ]
     },
     "metadata": {},
     "output_type": "display_data"
    },
    {
     "name": "stdout",
     "output_type": "stream",
     "text": [
      "Average Error Rate: 1.85%\n"
     ]
    },
    {
     "data": {
      "text/plain": [
       "<Figure size 640x480 with 0 Axes>"
      ]
     },
     "metadata": {},
     "output_type": "display_data"
    }
   ],
   "source": [
    "# 시각화\n",
    "label = test_df.copy()\n",
    "label = np.array(label.head(PRED_SIZE)[\"Close Price\"])\n",
    "\n",
    "# Prediction\n",
    "pred_ = preds_df['Mean'].to_numpy().reshape(PRED_SIZE)\n",
    "\n",
    "# 날짜 데이터\n",
    "period = test_df[\"Date\"].copy()\n",
    "period = [d for d in period.head(PRED_SIZE)]\n",
    "d5_period = ['2023-12-22','2023-12-26','2023-12-27','2023-12-28','2023-12-29']\n",
    "d5_stock = stock_df.loc[d5_period,'Close'].to_list()\n",
    "d10_period = ['2023-12-15','2023-12-18','2023-12-19','2023-12-20','2023-12-21','2023-12-22','2023-12-26','2023-12-27','2023-12-28','2023-12-29']\n",
    "d30_period = ['2023-11-16', '2023-11-17', '2023-11-20', '2023-11-21',\n",
    "               '2023-11-22', '2023-11-24', '2023-11-27', '2023-11-28',\n",
    "               '2023-11-29', '2023-11-30', '2023-12-01', '2023-12-04',\n",
    "               '2023-12-05', '2023-12-06', '2023-12-07', '2023-12-08',\n",
    "               '2023-12-11', '2023-12-12', '2023-12-13', '2023-12-14',\n",
    "               '2023-12-15', '2023-12-18', '2023-12-19', '2023-12-20',\n",
    "               '2023-12-21', '2023-12-22', '2023-12-26', '2023-12-27',\n",
    "               '2023-12-28', '2023-12-29']\n",
    "d10_stock = stock_df.loc[d10_period,'Close'].to_list()\n",
    "d30_stock = stock_df.loc[d30_period,'Close'].to_list()\n",
    "\n",
    "# 오차율 계산\n",
    "error_rate = np.abs((label - pred_) / label) * 100\n",
    "\n",
    "plt.figure(figsize=(12, 6))\n",
    "plt.plot(d5_period+period, d5_stock+label.tolist(), marker='o', color='blue', label='Actual Close Price')\n",
    "plt.plot(period, pred_, marker='x', color='red', linestyle='--', label='Predicted Close Price')\n",
    "plt.axvline(x='2024-01-02', color='red',linestyle='-',linewidth=.5)\n",
    "\n",
    "# 오차율을 각 포인트에 텍스트로 표시\n",
    "for date, lbl, prd, err in zip(period, label, pred_, error_rate):\n",
    "    plt.text(date, prd, f'{err:.2f}%', color='black', ha='right', va='bottom')\n",
    "\n",
    "# 평균 오차율 계산\n",
    "average_error_rate = np.mean(error_rate)\n",
    "\n",
    "# 평균 오차율 텍스트 추가\n",
    "plt.text(0.015, 0.15, f\"Average Error Ratio: {average_error_rate:.2f}%\", transform=plt.gca().transAxes, fontsize=10, verticalalignment='bottom', horizontalalignment='left', bbox=dict(facecolor='white', alpha=0.5))\n",
    "     \n",
    "plt.xticks(rotation = 45)  # 날짜 레이블 회전\n",
    "plt.xlabel('Date')\n",
    "plt.ylabel('Close Price')\n",
    "plt.title(f'model = {MODEL}, data = {dataname}, target = {TARGET}, seq_size = {SEQ_SIZE}, pred_size = {PRED_SIZE}, batch_size = {BATCH_SIZE}, model_size = {HIDDEN_SIZE}, trials = {N_TRIALS}')\n",
    "plt.legend()\n",
    "plt.tight_layout()  # 레이아웃 조정\n",
    "### When Local\n",
    "plt.savefig(f'../../plots/predicts/prediction_{filename}.png')\n",
    "\n",
    "### When Kaggle\n",
    "# plt.savefig(f'/kaggle/working/prediction_{filename}.png')plt.show()\n",
    "plt.clf()"
   ]
  },
  {
   "cell_type": "code",
   "execution_count": 10,
   "id": "f0cfa603",
   "metadata": {
    "execution": {
     "iopub.execute_input": "2024-02-23T21:43:38.083952Z",
     "iopub.status.busy": "2024-02-23T21:43:38.083471Z",
     "iopub.status.idle": "2024-02-23T21:43:38.574527Z",
     "shell.execute_reply": "2024-02-23T21:43:38.573209Z"
    },
    "papermill": {
     "duration": 0.547214,
     "end_time": "2024-02-23T21:43:38.578090",
     "exception": false,
     "start_time": "2024-02-23T21:43:38.030876",
     "status": "completed"
    },
    "tags": []
   },
   "outputs": [
    {
     "data": {
      "image/png": "[encoded data removed]",
      "text/plain": [
       "<Figure size 640x480 with 1 Axes>"
      ]
     },
     "metadata": {},
     "output_type": "display_data"
    },
    {
     "data": {
      "text/plain": [
       "<Figure size 640x480 with 0 Axes>"
      ]
     },
     "metadata": {},
     "output_type": "display_data"
    }
   ],
   "source": [
    "### Visualize train-validation loss\n",
    "\n",
    "for t in list(range(1,N_TRIALS+1)):\n",
    "    plt.plot(range(len(globals()[f'train_losses_{t}'])),\n",
    "             globals()[f'train_losses_{t}'],\n",
    "             color='blue',alpha=0.6)\n",
    "    plt.plot(range(len(globals()[f'val_losses_{t}'])),\n",
    "             globals()[f'val_losses_{t}'],\n",
    "             color='red',alpha=0.6)\n",
    "plt.legend(['train_loss','val_loss'])\n",
    "plt.tight_layout()\n",
    "### When Local\n",
    "plt.savefig(f'../../plots/train_val_loss/{N_TRIALS}trials_train_val_loss_{filename}.png')\n",
    "\n",
    "### When Kaggle\n",
    "# plt.savefig(f'/kaggle/working/{N_TRIALS}trials_train_val_loss_{filename}.png')\n",
    "plt.show()\n",
    "plt.clf()"
   ]
  }
 ],
 "metadata": {
  "kaggle": {
   "accelerator": "none",
   "dataSources": [
    {
     "datasetId": 4467086,
     "sourceId": 7661131,
     "sourceType": "datasetVersion"
    }
   ],
   "dockerImageVersionId": 30646,
   "isGpuEnabled": false,
   "isInternetEnabled": true,
   "language": "python",
   "sourceType": "notebook"
  },
  "kernelspec": {
   "display_name": "Python 3 (ipykernel)",
   "language": "python",
   "name": "python3"
  },
  "language_info": {
   "codemirror_mode": {
    "name": "ipython",
    "version": 3
   },
   "file_extension": ".py",
   "mimetype": "text/x-python",
   "name": "python",
   "nbconvert_exporter": "python",
   "pygments_lexer": "ipython3",
   "version": "3.9.6"
  },
  "papermill": {
   "default_parameters": {},
   "duration": 35404.259283,
   "end_time": "2024-02-23T21:43:41.195506",
   "environment_variables": {},
   "exception": null,
   "input_path": "__notebook__.ipynb",
   "output_path": "__notebook__.ipynb",
   "parameters": {},
   "start_time": "2024-02-23T11:53:36.936223",
   "version": "2.5.0"
  },
  "toc": {
   "base_numbering": 1,
   "nav_menu": {},
   "number_sections": false,
   "sideBar": true,
   "skip_h1_title": false,
   "title_cell": "Table of Contents",
   "title_sidebar": "Contents",
   "toc_cell": false,
   "toc_position": {},
   "toc_section_display": true,
   "toc_window_display": false
  }
 },
 "nbformat": 4,
 "nbformat_minor": 5
}
